{
 "cells": [
  {
   "cell_type": "markdown",
   "metadata": {},
   "source": [
    "# Automated ML\n",
    "\n",
    "\n",
    "## Import libraries for Azure Machine Learning SDK"
   ]
  },
  {
   "cell_type": "code",
   "execution_count": 1,
   "metadata": {
    "gather": {
     "logged": 1598423888013
    },
    "jupyter": {
     "outputs_hidden": false,
     "source_hidden": false
    },
    "nteract": {
     "transient": {
      "deleting": false
     }
    }
   },
   "outputs": [
    {
     "name": "stdout",
     "output_type": "stream",
     "text": [
      "SDK version: 1.20.0\n"
     ]
    }
   ],
   "source": [
    "import logging\n",
    "import os\n",
    "import csv\n",
    "\n",
    "from matplotlib import pyplot as pyplot\n",
    "import numpy as pd\n",
    "import pandas as pd\n",
    "from sklearn import datasets\n",
    "import pkg_resources\n",
    "\n",
    "import azureml.core\n",
    "from azureml.core.experiment import Experiment\n",
    "from azureml.core.workspace import Workspace\n",
    "from azureml.train.automl import AutoMLConfig\n",
    "from azureml.core.dataset import Dataset\n",
    "\n",
    "# Check the core SDK version number\n",
    "print(\"SDK version:\", azureml.core.VERSION)"
   ]
  },
  {
   "cell_type": "markdown",
   "metadata": {},
   "source": [
    "## Initialize Workspace and Experiment"
   ]
  },
  {
   "cell_type": "code",
   "execution_count": 2,
   "metadata": {},
   "outputs": [
    {
     "data": {
      "text/html": [
       "<div>\n",
       "<style scoped>\n",
       "    .dataframe tbody tr th:only-of-type {\n",
       "        vertical-align: middle;\n",
       "    }\n",
       "\n",
       "    .dataframe tbody tr th {\n",
       "        vertical-align: top;\n",
       "    }\n",
       "\n",
       "    .dataframe thead th {\n",
       "        text-align: right;\n",
       "    }\n",
       "</style>\n",
       "<table border=\"1\" class=\"dataframe\">\n",
       "  <thead>\n",
       "    <tr style=\"text-align: right;\">\n",
       "      <th></th>\n",
       "      <th></th>\n",
       "    </tr>\n",
       "  </thead>\n",
       "  <tbody>\n",
       "    <tr>\n",
       "      <th>Subscription ID</th>\n",
       "      <td>61c5c3f0-6dc7-4ed9-a7f3-c704b20e3b30</td>\n",
       "    </tr>\n",
       "    <tr>\n",
       "      <th>Workspace</th>\n",
       "      <td>quick-starts-ws-136379</td>\n",
       "    </tr>\n",
       "    <tr>\n",
       "      <th>Resource Group</th>\n",
       "      <td>aml-quickstarts-136379</td>\n",
       "    </tr>\n",
       "    <tr>\n",
       "      <th>Location</th>\n",
       "      <td>southcentralus</td>\n",
       "    </tr>\n",
       "    <tr>\n",
       "      <th>Experiment Name</th>\n",
       "      <td>auto-ml-heart-failure-exp</td>\n",
       "    </tr>\n",
       "  </tbody>\n",
       "</table>\n",
       "</div>"
      ],
      "text/plain": [
       "                                                     \n",
       "Subscription ID  61c5c3f0-6dc7-4ed9-a7f3-c704b20e3b30\n",
       "Workspace        quick-starts-ws-136379              \n",
       "Resource Group   aml-quickstarts-136379              \n",
       "Location         southcentralus                      \n",
       "Experiment Name  auto-ml-heart-failure-exp           "
      ]
     },
     "execution_count": 2,
     "metadata": {},
     "output_type": "execute_result"
    }
   ],
   "source": [
    "# initialized a workspace from a persisted configuration\n",
    "ws = Workspace.from_config()\n",
    "\n",
    "project_folder = './heart_failure_proj'\n",
    "# choose a name for experiment\n",
    "experiment_name = 'auto-ml-heart-failure-exp'\n",
    "\n",
    "experiment = Experiment(ws, experiment_name)\n",
    "\n",
    "# get workspace details and print\n",
    "output = {}\n",
    "output['Subscription ID'] = ws.subscription_id\n",
    "output['Workspace'] = ws.name\n",
    "output['Resource Group'] = ws.resource_group \n",
    "output['Location'] = ws.location \n",
    "output['Experiment Name'] = experiment.name\n",
    "pd.set_option('display.max_colwidth', -1)\n",
    "output_df = pd.DataFrame(data = output, index=[''])\n",
    "output_df.T"
   ]
  },
  {
   "cell_type": "markdown",
   "metadata": {},
   "source": [
    "## Dataset\n",
    "\n",
    "Get data. In the cell below, write code to access the data you will be using in this project. Remember that the dataset needs to be external."
   ]
  },
  {
   "cell_type": "markdown",
   "metadata": {},
   "source": [
    "## Prepare the dataset for Automation"
   ]
  },
  {
   "cell_type": "code",
   "execution_count": 3,
   "metadata": {},
   "outputs": [
    {
     "data": {
      "text/html": [
       "<div>\n",
       "<style scoped>\n",
       "    .dataframe tbody tr th:only-of-type {\n",
       "        vertical-align: middle;\n",
       "    }\n",
       "\n",
       "    .dataframe tbody tr th {\n",
       "        vertical-align: top;\n",
       "    }\n",
       "\n",
       "    .dataframe thead th {\n",
       "        text-align: right;\n",
       "    }\n",
       "</style>\n",
       "<table border=\"1\" class=\"dataframe\">\n",
       "  <thead>\n",
       "    <tr style=\"text-align: right;\">\n",
       "      <th></th>\n",
       "      <th>age</th>\n",
       "      <th>anaemia</th>\n",
       "      <th>creatinine_phosphokinase</th>\n",
       "      <th>diabetes</th>\n",
       "      <th>ejection_fraction</th>\n",
       "      <th>high_blood_pressure</th>\n",
       "      <th>platelets</th>\n",
       "      <th>serum_creatinine</th>\n",
       "      <th>serum_sodium</th>\n",
       "      <th>sex</th>\n",
       "      <th>smoking</th>\n",
       "      <th>time</th>\n",
       "      <th>DEATH_EVENT</th>\n",
       "    </tr>\n",
       "  </thead>\n",
       "  <tbody>\n",
       "    <tr>\n",
       "      <th>count</th>\n",
       "      <td>299.000000</td>\n",
       "      <td>299.000000</td>\n",
       "      <td>299.000000</td>\n",
       "      <td>299.000000</td>\n",
       "      <td>299.000000</td>\n",
       "      <td>299.000000</td>\n",
       "      <td>299.000000</td>\n",
       "      <td>299.00000</td>\n",
       "      <td>299.000000</td>\n",
       "      <td>299.000000</td>\n",
       "      <td>299.00000</td>\n",
       "      <td>299.000000</td>\n",
       "      <td>299.00000</td>\n",
       "    </tr>\n",
       "    <tr>\n",
       "      <th>mean</th>\n",
       "      <td>60.833893</td>\n",
       "      <td>0.431438</td>\n",
       "      <td>581.839465</td>\n",
       "      <td>0.418060</td>\n",
       "      <td>38.083612</td>\n",
       "      <td>0.351171</td>\n",
       "      <td>263358.029264</td>\n",
       "      <td>1.39388</td>\n",
       "      <td>136.625418</td>\n",
       "      <td>0.648829</td>\n",
       "      <td>0.32107</td>\n",
       "      <td>130.260870</td>\n",
       "      <td>0.32107</td>\n",
       "    </tr>\n",
       "    <tr>\n",
       "      <th>std</th>\n",
       "      <td>11.894809</td>\n",
       "      <td>0.496107</td>\n",
       "      <td>970.287881</td>\n",
       "      <td>0.494067</td>\n",
       "      <td>11.834841</td>\n",
       "      <td>0.478136</td>\n",
       "      <td>97804.236869</td>\n",
       "      <td>1.03451</td>\n",
       "      <td>4.412477</td>\n",
       "      <td>0.478136</td>\n",
       "      <td>0.46767</td>\n",
       "      <td>77.614208</td>\n",
       "      <td>0.46767</td>\n",
       "    </tr>\n",
       "    <tr>\n",
       "      <th>min</th>\n",
       "      <td>40.000000</td>\n",
       "      <td>0.000000</td>\n",
       "      <td>23.000000</td>\n",
       "      <td>0.000000</td>\n",
       "      <td>14.000000</td>\n",
       "      <td>0.000000</td>\n",
       "      <td>25100.000000</td>\n",
       "      <td>0.50000</td>\n",
       "      <td>113.000000</td>\n",
       "      <td>0.000000</td>\n",
       "      <td>0.00000</td>\n",
       "      <td>4.000000</td>\n",
       "      <td>0.00000</td>\n",
       "    </tr>\n",
       "    <tr>\n",
       "      <th>25%</th>\n",
       "      <td>51.000000</td>\n",
       "      <td>0.000000</td>\n",
       "      <td>116.500000</td>\n",
       "      <td>0.000000</td>\n",
       "      <td>30.000000</td>\n",
       "      <td>0.000000</td>\n",
       "      <td>212500.000000</td>\n",
       "      <td>0.90000</td>\n",
       "      <td>134.000000</td>\n",
       "      <td>0.000000</td>\n",
       "      <td>0.00000</td>\n",
       "      <td>73.000000</td>\n",
       "      <td>0.00000</td>\n",
       "    </tr>\n",
       "    <tr>\n",
       "      <th>50%</th>\n",
       "      <td>60.000000</td>\n",
       "      <td>0.000000</td>\n",
       "      <td>250.000000</td>\n",
       "      <td>0.000000</td>\n",
       "      <td>38.000000</td>\n",
       "      <td>0.000000</td>\n",
       "      <td>262000.000000</td>\n",
       "      <td>1.10000</td>\n",
       "      <td>137.000000</td>\n",
       "      <td>1.000000</td>\n",
       "      <td>0.00000</td>\n",
       "      <td>115.000000</td>\n",
       "      <td>0.00000</td>\n",
       "    </tr>\n",
       "    <tr>\n",
       "      <th>75%</th>\n",
       "      <td>70.000000</td>\n",
       "      <td>1.000000</td>\n",
       "      <td>582.000000</td>\n",
       "      <td>1.000000</td>\n",
       "      <td>45.000000</td>\n",
       "      <td>1.000000</td>\n",
       "      <td>303500.000000</td>\n",
       "      <td>1.40000</td>\n",
       "      <td>140.000000</td>\n",
       "      <td>1.000000</td>\n",
       "      <td>1.00000</td>\n",
       "      <td>203.000000</td>\n",
       "      <td>1.00000</td>\n",
       "    </tr>\n",
       "    <tr>\n",
       "      <th>max</th>\n",
       "      <td>95.000000</td>\n",
       "      <td>1.000000</td>\n",
       "      <td>7861.000000</td>\n",
       "      <td>1.000000</td>\n",
       "      <td>80.000000</td>\n",
       "      <td>1.000000</td>\n",
       "      <td>850000.000000</td>\n",
       "      <td>9.40000</td>\n",
       "      <td>148.000000</td>\n",
       "      <td>1.000000</td>\n",
       "      <td>1.00000</td>\n",
       "      <td>285.000000</td>\n",
       "      <td>1.00000</td>\n",
       "    </tr>\n",
       "  </tbody>\n",
       "</table>\n",
       "</div>"
      ],
      "text/plain": [
       "              age     anaemia  creatinine_phosphokinase    diabetes  \\\n",
       "count  299.000000  299.000000  299.000000                299.000000   \n",
       "mean   60.833893   0.431438    581.839465                0.418060     \n",
       "std    11.894809   0.496107    970.287881                0.494067     \n",
       "min    40.000000   0.000000    23.000000                 0.000000     \n",
       "25%    51.000000   0.000000    116.500000                0.000000     \n",
       "50%    60.000000   0.000000    250.000000                0.000000     \n",
       "75%    70.000000   1.000000    582.000000                1.000000     \n",
       "max    95.000000   1.000000    7861.000000               1.000000     \n",
       "\n",
       "       ejection_fraction  high_blood_pressure      platelets  \\\n",
       "count  299.000000         299.000000           299.000000      \n",
       "mean   38.083612          0.351171             263358.029264   \n",
       "std    11.834841          0.478136             97804.236869    \n",
       "min    14.000000          0.000000             25100.000000    \n",
       "25%    30.000000          0.000000             212500.000000   \n",
       "50%    38.000000          0.000000             262000.000000   \n",
       "75%    45.000000          1.000000             303500.000000   \n",
       "max    80.000000          1.000000             850000.000000   \n",
       "\n",
       "       serum_creatinine  serum_sodium         sex    smoking        time  \\\n",
       "count  299.00000         299.000000    299.000000  299.00000  299.000000   \n",
       "mean   1.39388           136.625418    0.648829    0.32107    130.260870   \n",
       "std    1.03451           4.412477      0.478136    0.46767    77.614208    \n",
       "min    0.50000           113.000000    0.000000    0.00000    4.000000     \n",
       "25%    0.90000           134.000000    0.000000    0.00000    73.000000    \n",
       "50%    1.10000           137.000000    1.000000    0.00000    115.000000   \n",
       "75%    1.40000           140.000000    1.000000    1.00000    203.000000   \n",
       "max    9.40000           148.000000    1.000000    1.00000    285.000000   \n",
       "\n",
       "       DEATH_EVENT  \n",
       "count  299.00000    \n",
       "mean   0.32107      \n",
       "std    0.46767      \n",
       "min    0.00000      \n",
       "25%    0.00000      \n",
       "50%    0.00000      \n",
       "75%    1.00000      \n",
       "max    1.00000      "
      ]
     },
     "execution_count": 3,
     "metadata": {},
     "output_type": "execute_result"
    }
   ],
   "source": [
    "# Try to load the dataset from the Workspace. Otherwise, create it from the file\n",
    "# NOTE: update the key to match the dataset name\n",
    "found = False\n",
    "key = \"heart-failure-dataset\"\n",
    "description_text = \"heart failure clinical records dataset from UCI repo \"\n",
    "\n",
    "if key in ws.datasets.keys(): \n",
    "        found = True\n",
    "        dataset = ws.datasets[key] \n",
    "\n",
    "if not found:\n",
    "        # Create AML Dataset and register it into Workspace\n",
    "        example_data = 'https://archive.ics.uci.edu/ml/machine-learning-databases/00519/heart_failure_clinical_records_dataset.csv'\n",
    "        dataset = Dataset.Tabular.from_delimited_files(example_data)        \n",
    "        #Register Dataset in Workspace\n",
    "        dataset = dataset.register(workspace=ws,\n",
    "                                   name=key,\n",
    "                                   description=description_text)\n",
    "\n",
    "\n",
    "df = dataset.to_pandas_dataframe()\n",
    "df.describe()"
   ]
  },
  {
   "cell_type": "markdown",
   "metadata": {},
   "source": [
    "## Create a Compute Target\n",
    "\n",
    "Create a remote compute cluster on Azure ML Workspace"
   ]
  },
  {
   "cell_type": "code",
   "execution_count": 4,
   "metadata": {},
   "outputs": [
    {
     "name": "stdout",
     "output_type": "stream",
     "text": [
      "Creating\n",
      "Succeeded\n",
      "AmlCompute wait for completion finished\n",
      "\n",
      "Minimum number of nodes requested have been provisioned\n"
     ]
    }
   ],
   "source": [
    "from azureml.core.compute import ComputeTarget, AmlCompute\n",
    "from azureml.core.compute_target import ComputeTargetException\n",
    "\n",
    "cluster_name = 'cpu-cluster'\n",
    "\n",
    "try:\n",
    "    # check for existing compute target\n",
    "    training_cluster = ComputeTarget(\n",
    "        workspace=ws,\n",
    "        name=cluster_name,\n",
    "    )\n",
    "    print('Found existing cluster, use it.')\n",
    "except:\n",
    "    # create compute target if non exists\n",
    "    try:\n",
    "        compute_config = AmlCompute.provisioning_configuration(\n",
    "            vm_size='STANDARD_DS12_V2',\n",
    "            max_nodes=4\n",
    "        )\n",
    "        training_cluster = ComputeTarget.create(ws, cluster_name, compute_config)\n",
    "        training_cluster.wait_for_completion(show_output=True)\n",
    "    except Exception as ex:\n",
    "        print(ex)"
   ]
  },
  {
   "cell_type": "markdown",
   "metadata": {},
   "source": [
    "## AutoML Configuration\n",
    "\n",
    "Defining Azure ML configuration settings. Details have been explained in the ReadMe.md document"
   ]
  },
  {
   "cell_type": "code",
   "execution_count": 5,
   "metadata": {
    "gather": {
     "logged": 1598429217746
    },
    "jupyter": {
     "outputs_hidden": false,
     "source_hidden": false
    },
    "nteract": {
     "transient": {
      "deleting": false
     }
    }
   },
   "outputs": [],
   "source": [
    "# define automl settings\n",
    "automl_settings = {\n",
    "    \"n_cross_validations\": 5,\n",
    "    \"experiment_timeout_minutes\": 60,\n",
    "    \"max_concurrent_iterations\": 2,\n",
    "    \"primary_metric\" : 'accuracy'\n",
    "}\n",
    "\n",
    "# define automl configuration settings\n",
    "automl_config = AutoMLConfig(compute_target=training_cluster,\n",
    "                             task = \"classification\",\n",
    "                             training_data=dataset,\n",
    "                             label_column_name=\"DEATH_EVENT\",   \n",
    "                             path = project_folder,\n",
    "                             enable_early_stopping= True,\n",
    "                             featurization= 'auto',\n",
    "                             debug_log = \"automl_errors.log\",\n",
    "                             **automl_settings\n",
    "                            )"
   ]
  },
  {
   "cell_type": "code",
   "execution_count": 6,
   "metadata": {
    "gather": {
     "logged": 1598431107951
    },
    "jupyter": {
     "outputs_hidden": false,
     "source_hidden": false
    },
    "nteract": {
     "transient": {
      "deleting": false
     }
    }
   },
   "outputs": [
    {
     "name": "stdout",
     "output_type": "stream",
     "text": [
      "Running on remote.\n"
     ]
    }
   ],
   "source": [
    "# Submit the experiment to the compute target created above\n",
    "remote_run = experiment.submit(automl_config)"
   ]
  },
  {
   "cell_type": "markdown",
   "metadata": {},
   "source": [
    "## Run Details\n",
    "\n",
    "`RunDetails` widgets shows the details of the different experiments executed by Auto ML"
   ]
  },
  {
   "cell_type": "code",
   "execution_count": 7,
   "metadata": {},
   "outputs": [],
   "source": [
    "# uncomment run this when you need to retrieve an existing run\n",
    "#from azureml.train.automl.run import AutoMLRun\n",
    "#remote_run = AutoMLRun(experiment = experiment, run_id = 'AutoML_c2ada1fe-bf94-48d0-802e-fcb1cc580787')"
   ]
  },
  {
   "cell_type": "code",
   "execution_count": 8,
   "metadata": {
    "gather": {
     "logged": 1598431121770
    },
    "jupyter": {
     "outputs_hidden": false,
     "source_hidden": false
    },
    "nteract": {
     "transient": {
      "deleting": false
     }
    }
   },
   "outputs": [
    {
     "data": {
      "application/vnd.jupyter.widget-view+json": {
       "model_id": "fb29d5e84cb14ee798ab20a3b1fba62d",
       "version_major": 2,
       "version_minor": 0
      },
      "text/plain": [
       "_AutoMLWidget(widget_settings={'childWidgetDisplay': 'popup', 'send_telemetry': False, 'log_level': 'INFO', 's…"
      ]
     },
     "metadata": {},
     "output_type": "display_data"
    },
    {
     "data": {
      "application/aml.mini.widget.v1": "{\"status\": \"Completed\", \"workbench_run_details_uri\": \"https://ml.azure.com/experiments/auto-ml-heart-failure-exp/runs/AutoML_cb5c23e6-62cb-4b89-9435-42f75acee2df?wsid=/subscriptions/61c5c3f0-6dc7-4ed9-a7f3-c704b20e3b30/resourcegroups/aml-quickstarts-136379/workspaces/quick-starts-ws-136379\", \"run_id\": \"AutoML_cb5c23e6-62cb-4b89-9435-42f75acee2df\", \"run_properties\": {\"run_id\": \"AutoML_cb5c23e6-62cb-4b89-9435-42f75acee2df\", \"created_utc\": \"2021-01-28T13:16:48.313697Z\", \"properties\": {\"num_iterations\": \"1000\", \"training_type\": \"TrainFull\", \"acquisition_function\": \"EI\", \"primary_metric\": \"accuracy\", \"train_split\": \"0\", \"acquisition_parameter\": \"0\", \"num_cross_validation\": \"5\", \"target\": \"cpu-cluster\", \"AMLSettingsJsonString\": \"{\\\"path\\\":null,\\\"name\\\":\\\"auto-ml-heart-failure-exp\\\",\\\"subscription_id\\\":\\\"61c5c3f0-6dc7-4ed9-a7f3-c704b20e3b30\\\",\\\"resource_group\\\":\\\"aml-quickstarts-136379\\\",\\\"workspace_name\\\":\\\"quick-starts-ws-136379\\\",\\\"region\\\":\\\"southcentralus\\\",\\\"compute_target\\\":\\\"cpu-cluster\\\",\\\"spark_service\\\":null,\\\"azure_service\\\":\\\"remote\\\",\\\"many_models\\\":false,\\\"pipeline_fetch_max_batch_size\\\":1,\\\"iterations\\\":1000,\\\"primary_metric\\\":\\\"accuracy\\\",\\\"task_type\\\":\\\"classification\\\",\\\"data_script\\\":null,\\\"validation_size\\\":0.0,\\\"n_cross_validations\\\":5,\\\"y_min\\\":null,\\\"y_max\\\":null,\\\"num_classes\\\":null,\\\"featurization\\\":\\\"auto\\\",\\\"_ignore_package_version_incompatibilities\\\":false,\\\"is_timeseries\\\":false,\\\"max_cores_per_iteration\\\":1,\\\"max_concurrent_iterations\\\":2,\\\"iteration_timeout_minutes\\\":null,\\\"mem_in_mb\\\":null,\\\"enforce_time_on_windows\\\":false,\\\"experiment_timeout_minutes\\\":60,\\\"experiment_exit_score\\\":null,\\\"whitelist_models\\\":null,\\\"blacklist_algos\\\":[\\\"TensorFlowLinearClassifier\\\",\\\"TensorFlowDNN\\\"],\\\"supported_models\\\":[\\\"AveragedPerceptronClassifier\\\",\\\"RandomForest\\\",\\\"BernoulliNaiveBayes\\\",\\\"LogisticRegression\\\",\\\"LinearSVM\\\",\\\"GradientBoosting\\\",\\\"TensorFlowDNN\\\",\\\"MultinomialNaiveBayes\\\",\\\"SGD\\\",\\\"KNN\\\",\\\"DecisionTree\\\",\\\"ExtremeRandomTrees\\\",\\\"TensorFlowLinearClassifier\\\",\\\"SVM\\\",\\\"LightGBM\\\",\\\"XGBoostClassifier\\\"],\\\"auto_blacklist\\\":true,\\\"blacklist_samples_reached\\\":false,\\\"exclude_nan_labels\\\":true,\\\"verbosity\\\":20,\\\"_debug_log\\\":\\\"azureml_automl.log\\\",\\\"show_warnings\\\":false,\\\"model_explainability\\\":true,\\\"service_url\\\":null,\\\"sdk_url\\\":null,\\\"sdk_packages\\\":null,\\\"enable_onnx_compatible_models\\\":false,\\\"enable_split_onnx_featurizer_estimator_models\\\":false,\\\"vm_type\\\":\\\"STANDARD_DS12_V2\\\",\\\"telemetry_verbosity\\\":20,\\\"send_telemetry\\\":true,\\\"enable_dnn\\\":false,\\\"scenario\\\":\\\"SDK-1.13.0\\\",\\\"environment_label\\\":null,\\\"force_text_dnn\\\":false,\\\"enable_feature_sweeping\\\":true,\\\"enable_early_stopping\\\":true,\\\"early_stopping_n_iters\\\":10,\\\"metrics\\\":null,\\\"enable_ensembling\\\":true,\\\"enable_stack_ensembling\\\":true,\\\"ensemble_iterations\\\":15,\\\"enable_tf\\\":false,\\\"enable_subsampling\\\":null,\\\"subsample_seed\\\":null,\\\"enable_nimbusml\\\":false,\\\"enable_streaming\\\":false,\\\"force_streaming\\\":false,\\\"track_child_runs\\\":true,\\\"allowed_private_models\\\":[],\\\"label_column_name\\\":\\\"DEATH_EVENT\\\",\\\"weight_column_name\\\":null,\\\"cv_split_column_names\\\":null,\\\"enable_local_managed\\\":false,\\\"_local_managed_run_id\\\":null,\\\"cost_mode\\\":1,\\\"lag_length\\\":0,\\\"metric_operation\\\":\\\"maximize\\\",\\\"preprocess\\\":true}\", \"DataPrepJsonString\": \"{\\\\\\\"training_data\\\\\\\": \\\\\\\"{\\\\\\\\\\\\\\\"blocks\\\\\\\\\\\\\\\": [{\\\\\\\\\\\\\\\"id\\\\\\\\\\\\\\\": \\\\\\\\\\\\\\\"570c673a-6fa1-4e39-a226-868d47348267\\\\\\\\\\\\\\\", \\\\\\\\\\\\\\\"type\\\\\\\\\\\\\\\": \\\\\\\\\\\\\\\"Microsoft.DPrep.GetFilesBlock\\\\\\\\\\\\\\\", \\\\\\\\\\\\\\\"arguments\\\\\\\\\\\\\\\": {\\\\\\\\\\\\\\\"isArchive\\\\\\\\\\\\\\\": false, \\\\\\\\\\\\\\\"path\\\\\\\\\\\\\\\": {\\\\\\\\\\\\\\\"target\\\\\\\\\\\\\\\": 4, \\\\\\\\\\\\\\\"resourceDetails\\\\\\\\\\\\\\\": [{\\\\\\\\\\\\\\\"path\\\\\\\\\\\\\\\": \\\\\\\\\\\\\\\"https://archive.ics.uci.edu/ml/machine-learning-databases/00519/heart_failure_clinical_records_dataset.csv\\\\\\\\\\\\\\\"}]}}, \\\\\\\\\\\\\\\"localData\\\\\\\\\\\\\\\": {}, \\\\\\\\\\\\\\\"isEnabled\\\\\\\\\\\\\\\": true, \\\\\\\\\\\\\\\"name\\\\\\\\\\\\\\\": null, \\\\\\\\\\\\\\\"annotation\\\\\\\\\\\\\\\": null}, {\\\\\\\\\\\\\\\"id\\\\\\\\\\\\\\\": \\\\\\\\\\\\\\\"367273f6-9f0e-4b2b-8cc0-f3288ec1398a\\\\\\\\\\\\\\\", \\\\\\\\\\\\\\\"type\\\\\\\\\\\\\\\": \\\\\\\\\\\\\\\"Microsoft.DPrep.ParseDelimitedBlock\\\\\\\\\\\\\\\", \\\\\\\\\\\\\\\"arguments\\\\\\\\\\\\\\\": {\\\\\\\\\\\\\\\"columnHeadersMode\\\\\\\\\\\\\\\": 3, \\\\\\\\\\\\\\\"fileEncoding\\\\\\\\\\\\\\\": 0, \\\\\\\\\\\\\\\"handleQuotedLineBreaks\\\\\\\\\\\\\\\": false, \\\\\\\\\\\\\\\"preview\\\\\\\\\\\\\\\": false, \\\\\\\\\\\\\\\"separator\\\\\\\\\\\\\\\": \\\\\\\\\\\\\\\",\\\\\\\\\\\\\\\", \\\\\\\\\\\\\\\"skipRows\\\\\\\\\\\\\\\": 0, \\\\\\\\\\\\\\\"skipRowsMode\\\\\\\\\\\\\\\": 0}, \\\\\\\\\\\\\\\"localData\\\\\\\\\\\\\\\": {}, \\\\\\\\\\\\\\\"isEnabled\\\\\\\\\\\\\\\": true, \\\\\\\\\\\\\\\"name\\\\\\\\\\\\\\\": null, \\\\\\\\\\\\\\\"annotation\\\\\\\\\\\\\\\": null}, {\\\\\\\\\\\\\\\"id\\\\\\\\\\\\\\\": \\\\\\\\\\\\\\\"c74a4159-68f5-45a1-8e4d-fd708e775636\\\\\\\\\\\\\\\", \\\\\\\\\\\\\\\"type\\\\\\\\\\\\\\\": \\\\\\\\\\\\\\\"Microsoft.DPrep.DropColumnsBlock\\\\\\\\\\\\\\\", \\\\\\\\\\\\\\\"arguments\\\\\\\\\\\\\\\": {\\\\\\\\\\\\\\\"columns\\\\\\\\\\\\\\\": {\\\\\\\\\\\\\\\"type\\\\\\\\\\\\\\\": 0, \\\\\\\\\\\\\\\"details\\\\\\\\\\\\\\\": {\\\\\\\\\\\\\\\"selectedColumns\\\\\\\\\\\\\\\": [\\\\\\\\\\\\\\\"Path\\\\\\\\\\\\\\\"]}}}, \\\\\\\\\\\\\\\"localData\\\\\\\\\\\\\\\": {}, \\\\\\\\\\\\\\\"isEnabled\\\\\\\\\\\\\\\": true, \\\\\\\\\\\\\\\"name\\\\\\\\\\\\\\\": null, \\\\\\\\\\\\\\\"annotation\\\\\\\\\\\\\\\": null}, {\\\\\\\\\\\\\\\"id\\\\\\\\\\\\\\\": \\\\\\\\\\\\\\\"1175f99a-0a60-4b5c-9818-9b8284fd1b83\\\\\\\\\\\\\\\", \\\\\\\\\\\\\\\"type\\\\\\\\\\\\\\\": \\\\\\\\\\\\\\\"Microsoft.DPrep.SetColumnTypesBlock\\\\\\\\\\\\\\\", \\\\\\\\\\\\\\\"arguments\\\\\\\\\\\\\\\": {\\\\\\\\\\\\\\\"columnConversion\\\\\\\\\\\\\\\": [{\\\\\\\\\\\\\\\"column\\\\\\\\\\\\\\\": {\\\\\\\\\\\\\\\"type\\\\\\\\\\\\\\\": 2, \\\\\\\\\\\\\\\"details\\\\\\\\\\\\\\\": {\\\\\\\\\\\\\\\"selectedColumn\\\\\\\\\\\\\\\": \\\\\\\\\\\\\\\"age\\\\\\\\\\\\\\\"}}, \\\\\\\\\\\\\\\"typeProperty\\\\\\\\\\\\\\\": 3}, {\\\\\\\\\\\\\\\"column\\\\\\\\\\\\\\\": {\\\\\\\\\\\\\\\"type\\\\\\\\\\\\\\\": 2, \\\\\\\\\\\\\\\"details\\\\\\\\\\\\\\\": {\\\\\\\\\\\\\\\"selectedColumn\\\\\\\\\\\\\\\": \\\\\\\\\\\\\\\"anaemia\\\\\\\\\\\\\\\"}}, \\\\\\\\\\\\\\\"typeProperty\\\\\\\\\\\\\\\": 2}, {\\\\\\\\\\\\\\\"column\\\\\\\\\\\\\\\": {\\\\\\\\\\\\\\\"type\\\\\\\\\\\\\\\": 2, \\\\\\\\\\\\\\\"details\\\\\\\\\\\\\\\": {\\\\\\\\\\\\\\\"selectedColumn\\\\\\\\\\\\\\\": \\\\\\\\\\\\\\\"creatinine_phosphokinase\\\\\\\\\\\\\\\"}}, \\\\\\\\\\\\\\\"typeProperty\\\\\\\\\\\\\\\": 2}, {\\\\\\\\\\\\\\\"column\\\\\\\\\\\\\\\": {\\\\\\\\\\\\\\\"type\\\\\\\\\\\\\\\": 2, \\\\\\\\\\\\\\\"details\\\\\\\\\\\\\\\": {\\\\\\\\\\\\\\\"selectedColumn\\\\\\\\\\\\\\\": \\\\\\\\\\\\\\\"diabetes\\\\\\\\\\\\\\\"}}, \\\\\\\\\\\\\\\"typeProperty\\\\\\\\\\\\\\\": 2}, {\\\\\\\\\\\\\\\"column\\\\\\\\\\\\\\\": {\\\\\\\\\\\\\\\"type\\\\\\\\\\\\\\\": 2, \\\\\\\\\\\\\\\"details\\\\\\\\\\\\\\\": {\\\\\\\\\\\\\\\"selectedColumn\\\\\\\\\\\\\\\": \\\\\\\\\\\\\\\"ejection_fraction\\\\\\\\\\\\\\\"}}, \\\\\\\\\\\\\\\"typeProperty\\\\\\\\\\\\\\\": 2}, {\\\\\\\\\\\\\\\"column\\\\\\\\\\\\\\\": {\\\\\\\\\\\\\\\"type\\\\\\\\\\\\\\\": 2, \\\\\\\\\\\\\\\"details\\\\\\\\\\\\\\\": {\\\\\\\\\\\\\\\"selectedColumn\\\\\\\\\\\\\\\": \\\\\\\\\\\\\\\"high_blood_pressure\\\\\\\\\\\\\\\"}}, \\\\\\\\\\\\\\\"typeProperty\\\\\\\\\\\\\\\": 2}, {\\\\\\\\\\\\\\\"column\\\\\\\\\\\\\\\": {\\\\\\\\\\\\\\\"type\\\\\\\\\\\\\\\": 2, \\\\\\\\\\\\\\\"details\\\\\\\\\\\\\\\": {\\\\\\\\\\\\\\\"selectedColumn\\\\\\\\\\\\\\\": \\\\\\\\\\\\\\\"platelets\\\\\\\\\\\\\\\"}}, \\\\\\\\\\\\\\\"typeProperty\\\\\\\\\\\\\\\": 3}, {\\\\\\\\\\\\\\\"column\\\\\\\\\\\\\\\": {\\\\\\\\\\\\\\\"type\\\\\\\\\\\\\\\": 2, \\\\\\\\\\\\\\\"details\\\\\\\\\\\\\\\": {\\\\\\\\\\\\\\\"selectedColumn\\\\\\\\\\\\\\\": \\\\\\\\\\\\\\\"serum_creatinine\\\\\\\\\\\\\\\"}}, \\\\\\\\\\\\\\\"typeProperty\\\\\\\\\\\\\\\": 3}, {\\\\\\\\\\\\\\\"column\\\\\\\\\\\\\\\": {\\\\\\\\\\\\\\\"type\\\\\\\\\\\\\\\": 2, \\\\\\\\\\\\\\\"details\\\\\\\\\\\\\\\": {\\\\\\\\\\\\\\\"selectedColumn\\\\\\\\\\\\\\\": \\\\\\\\\\\\\\\"serum_sodium\\\\\\\\\\\\\\\"}}, \\\\\\\\\\\\\\\"typeProperty\\\\\\\\\\\\\\\": 2}, {\\\\\\\\\\\\\\\"column\\\\\\\\\\\\\\\": {\\\\\\\\\\\\\\\"type\\\\\\\\\\\\\\\": 2, \\\\\\\\\\\\\\\"details\\\\\\\\\\\\\\\": {\\\\\\\\\\\\\\\"selectedColumn\\\\\\\\\\\\\\\": \\\\\\\\\\\\\\\"sex\\\\\\\\\\\\\\\"}}, \\\\\\\\\\\\\\\"typeProperty\\\\\\\\\\\\\\\": 2}, {\\\\\\\\\\\\\\\"column\\\\\\\\\\\\\\\": {\\\\\\\\\\\\\\\"type\\\\\\\\\\\\\\\": 2, \\\\\\\\\\\\\\\"details\\\\\\\\\\\\\\\": {\\\\\\\\\\\\\\\"selectedColumn\\\\\\\\\\\\\\\": \\\\\\\\\\\\\\\"smoking\\\\\\\\\\\\\\\"}}, \\\\\\\\\\\\\\\"typeProperty\\\\\\\\\\\\\\\": 2}, {\\\\\\\\\\\\\\\"column\\\\\\\\\\\\\\\": {\\\\\\\\\\\\\\\"type\\\\\\\\\\\\\\\": 2, \\\\\\\\\\\\\\\"details\\\\\\\\\\\\\\\": {\\\\\\\\\\\\\\\"selectedColumn\\\\\\\\\\\\\\\": \\\\\\\\\\\\\\\"time\\\\\\\\\\\\\\\"}}, \\\\\\\\\\\\\\\"typeProperty\\\\\\\\\\\\\\\": 2}, {\\\\\\\\\\\\\\\"column\\\\\\\\\\\\\\\": {\\\\\\\\\\\\\\\"type\\\\\\\\\\\\\\\": 2, \\\\\\\\\\\\\\\"details\\\\\\\\\\\\\\\": {\\\\\\\\\\\\\\\"selectedColumn\\\\\\\\\\\\\\\": \\\\\\\\\\\\\\\"DEATH_EVENT\\\\\\\\\\\\\\\"}}, \\\\\\\\\\\\\\\"typeProperty\\\\\\\\\\\\\\\": 2}]}, \\\\\\\\\\\\\\\"localData\\\\\\\\\\\\\\\": {}, \\\\\\\\\\\\\\\"isEnabled\\\\\\\\\\\\\\\": true, \\\\\\\\\\\\\\\"name\\\\\\\\\\\\\\\": null, \\\\\\\\\\\\\\\"annotation\\\\\\\\\\\\\\\": null}], \\\\\\\\\\\\\\\"inspectors\\\\\\\\\\\\\\\": [], \\\\\\\\\\\\\\\"meta\\\\\\\\\\\\\\\": {\\\\\\\\\\\\\\\"savedDatasetId\\\\\\\\\\\\\\\": \\\\\\\\\\\\\\\"77003cee-3b55-48b6-8538-6a097c4fb762\\\\\\\\\\\\\\\", \\\\\\\\\\\\\\\"datasetType\\\\\\\\\\\\\\\": \\\\\\\\\\\\\\\"tabular\\\\\\\\\\\\\\\", \\\\\\\\\\\\\\\"subscriptionId\\\\\\\\\\\\\\\": \\\\\\\\\\\\\\\"61c5c3f0-6dc7-4ed9-a7f3-c704b20e3b30\\\\\\\\\\\\\\\", \\\\\\\\\\\\\\\"workspaceId\\\\\\\\\\\\\\\": \\\\\\\\\\\\\\\"6a75048b-d2b5-41f5-ac2f-34afa8e72421\\\\\\\\\\\\\\\", \\\\\\\\\\\\\\\"workspaceLocation\\\\\\\\\\\\\\\": \\\\\\\\\\\\\\\"southcentralus\\\\\\\\\\\\\\\"}}\\\\\\\", \\\\\\\"activities\\\\\\\": 0}\", \"EnableSubsampling\": null, \"runTemplate\": \"AutoML\", \"azureml.runsource\": \"automl\", \"display_task_type\": \"classification\", \"dependencies_versions\": \"{\\\"azureml-widgets\\\": \\\"1.20.0\\\", \\\"azureml-train\\\": \\\"1.20.0\\\", \\\"azureml-train-restclients-hyperdrive\\\": \\\"1.20.0\\\", \\\"azureml-train-core\\\": \\\"1.20.0\\\", \\\"azureml-train-automl\\\": \\\"1.20.0\\\", \\\"azureml-train-automl-runtime\\\": \\\"1.20.0\\\", \\\"azureml-train-automl-client\\\": \\\"1.20.0\\\", \\\"azureml-tensorboard\\\": \\\"1.20.0\\\", \\\"azureml-telemetry\\\": \\\"1.20.0\\\", \\\"azureml-sdk\\\": \\\"1.20.0\\\", \\\"azureml-samples\\\": \\\"0+unknown\\\", \\\"azureml-pipeline\\\": \\\"1.20.0\\\", \\\"azureml-pipeline-steps\\\": \\\"1.20.0\\\", \\\"azureml-pipeline-core\\\": \\\"1.20.0\\\", \\\"azureml-opendatasets\\\": \\\"1.20.0\\\", \\\"azureml-model-management-sdk\\\": \\\"1.0.1b6.post1\\\", \\\"azureml-mlflow\\\": \\\"1.20.0.post1\\\", \\\"azureml-interpret\\\": \\\"1.20.0\\\", \\\"azureml-explain-model\\\": \\\"1.20.0\\\", \\\"azureml-defaults\\\": \\\"1.20.0\\\", \\\"azureml-dataset-runtime\\\": \\\"1.20.0\\\", \\\"azureml-dataprep\\\": \\\"2.7.3\\\", \\\"azureml-dataprep-rslex\\\": \\\"1.5.0\\\", \\\"azureml-dataprep-native\\\": \\\"27.0.0\\\", \\\"azureml-datadrift\\\": \\\"1.20.0\\\", \\\"azureml-core\\\": \\\"1.20.0\\\", \\\"azureml-contrib-services\\\": \\\"1.20.0\\\", \\\"azureml-contrib-server\\\": \\\"1.20.0\\\", \\\"azureml-contrib-reinforcementlearning\\\": \\\"1.20.0\\\", \\\"azureml-contrib-pipeline-steps\\\": \\\"1.20.0\\\", \\\"azureml-contrib-notebook\\\": \\\"1.20.0\\\", \\\"azureml-contrib-interpret\\\": \\\"1.20.0\\\", \\\"azureml-contrib-gbdt\\\": \\\"1.20.0\\\", \\\"azureml-contrib-fairness\\\": \\\"1.20.0\\\", \\\"azureml-contrib-dataset\\\": \\\"1.20.0\\\", \\\"azureml-cli-common\\\": \\\"1.20.0\\\", \\\"azureml-automl-runtime\\\": \\\"1.20.0\\\", \\\"azureml-automl-core\\\": \\\"1.20.0\\\", \\\"azureml-accel-models\\\": \\\"1.20.0\\\"}\", \"_aml_system_scenario_identification\": \"Remote.Parent\", \"ClientType\": \"SDK\", \"environment_cpu_name\": \"AzureML-AutoML\", \"environment_cpu_label\": \"prod\", \"environment_gpu_name\": \"AzureML-AutoML-GPU\", \"environment_gpu_label\": \"prod\", \"root_attribution\": \"automl\", \"attribution\": \"AutoML\", \"Orchestrator\": \"AutoML\", \"CancelUri\": \"https://southcentralus.experiments.azureml.net/jasmine/v1.0/subscriptions/61c5c3f0-6dc7-4ed9-a7f3-c704b20e3b30/resourceGroups/aml-quickstarts-136379/providers/Microsoft.MachineLearningServices/workspaces/quick-starts-ws-136379/experimentids/0ef3ab45-0deb-4f14-ba1e-1f627acfd105/cancel/AutoML_cb5c23e6-62cb-4b89-9435-42f75acee2df\", \"azureml.git.repository_uri\": \"https://github.com/donjude/azureml-engineer-capstone.git\", \"mlflow.source.git.repoURL\": \"https://github.com/donjude/azureml-engineer-capstone.git\", \"azureml.git.branch\": \"main\", \"mlflow.source.git.branch\": \"main\", \"azureml.git.commit\": \"7381b71a7d4cc8d6be0046849ab9f9ec666e6a18\", \"mlflow.source.git.commit\": \"7381b71a7d4cc8d6be0046849ab9f9ec666e6a18\", \"azureml.git.dirty\": \"False\", \"ClientSdkVersion\": \"1.20.0.post1\", \"snapshotId\": \"00000000-0000-0000-0000-000000000000\", \"SetupRunId\": \"AutoML_cb5c23e6-62cb-4b89-9435-42f75acee2df_setup\", \"SetupRunContainerId\": \"dcid.AutoML_cb5c23e6-62cb-4b89-9435-42f75acee2df_setup\", \"FeaturizationRunJsonPath\": \"featurizer_container.json\", \"FeaturizationRunId\": \"AutoML_cb5c23e6-62cb-4b89-9435-42f75acee2df_featurize\", \"ProblemInfoJsonString\": \"{\\\"dataset_num_categorical\\\": 0, \\\"is_sparse\\\": false, \\\"subsampling\\\": false, \\\"dataset_classes\\\": 2, \\\"dataset_features\\\": 12, \\\"dataset_samples\\\": 299, \\\"single_frequency_class_detected\\\": false}\", \"ModelExplainRunId\": \"AutoML_cb5c23e6-62cb-4b89-9435-42f75acee2df_ModelExplain\"}, \"tags\": {\"model_explain_run\": \"best_run\", \"_aml_system_azureml.automlComponent\": \"AutoML\", \"pipeline_id\": \"\", \"score\": \"\", \"predicted_cost\": \"\", \"fit_time\": \"\", \"training_percent\": \"\", \"iteration\": \"\", \"run_preprocessor\": \"\", \"run_algorithm\": \"\", \"dynamic_whitelisting_iterations\": \"<25>;<30>;\", \"automl_best_child_run_id\": \"AutoML_cb5c23e6-62cb-4b89-9435-42f75acee2df_32\", \"model_explain_best_run_child_id\": \"AutoML_cb5c23e6-62cb-4b89-9435-42f75acee2df_32\"}, \"end_time_utc\": \"2021-01-28T13:45:54.558645Z\", \"status\": \"Completed\", \"log_files\": {}, \"log_groups\": [], \"run_duration\": \"0:29:06\"}, \"child_runs\": [{\"run_id\": \"AutoML_cb5c23e6-62cb-4b89-9435-42f75acee2df_0\", \"run_number\": 5, \"metric\": null, \"status\": \"Completed\", \"run_type\": \"azureml.scriptrun\", \"training_percent\": \"100\", \"start_time\": \"2021-01-28T13:25:06.182749Z\", \"end_time\": \"2021-01-28T13:25:56.610604Z\", \"created_time\": \"2021-01-28T13:24:55.166547Z\", \"created_time_dt\": \"2021-01-28T13:24:55.166547Z\", \"duration\": \"0:01:01\", \"iteration\": \"0\", \"goal\": \"accuracy_max\", \"run_name\": \"MaxAbsScaler, LightGBM\", \"run_properties\": \"copy=True\", \"primary_metric\": 0.8059887, \"best_metric\": 0.8059887}, {\"run_id\": \"AutoML_cb5c23e6-62cb-4b89-9435-42f75acee2df_1\", \"run_number\": 6, \"metric\": null, \"status\": \"Completed\", \"run_type\": \"azureml.scriptrun\", \"training_percent\": \"100\", \"start_time\": \"2021-01-28T13:26:00.176293Z\", \"end_time\": \"2021-01-28T13:26:50.411916Z\", \"created_time\": \"2021-01-28T13:24:55.180413Z\", \"created_time_dt\": \"2021-01-28T13:24:55.180413Z\", \"duration\": \"0:01:55\", \"iteration\": \"1\", \"goal\": \"accuracy_max\", \"run_name\": \"MaxAbsScaler, XGBoostClassifier\", \"run_properties\": \"copy=True\", \"primary_metric\": 0.8259322, \"best_metric\": 0.8259322}, {\"run_id\": \"AutoML_cb5c23e6-62cb-4b89-9435-42f75acee2df_2\", \"run_number\": 7, \"metric\": null, \"status\": \"Completed\", \"run_type\": \"azureml.scriptrun\", \"training_percent\": \"100\", \"start_time\": \"2021-01-28T13:26:51.588746Z\", \"end_time\": \"2021-01-28T13:27:39.069923Z\", \"created_time\": \"2021-01-28T13:25:58.423236Z\", \"created_time_dt\": \"2021-01-28T13:25:58.423236Z\", \"duration\": \"0:01:40\", \"iteration\": \"2\", \"goal\": \"accuracy_max\", \"run_name\": \"MinMaxScaler, RandomForest\", \"run_properties\": \"copy=True, feature_range=(0, 1\", \"primary_metric\": 0.84276836, \"best_metric\": 0.84276836}, {\"run_id\": \"AutoML_cb5c23e6-62cb-4b89-9435-42f75acee2df_3\", \"run_number\": 8, \"metric\": null, \"status\": \"Completed\", \"run_type\": \"azureml.scriptrun\", \"training_percent\": \"100\", \"start_time\": \"2021-01-28T13:27:41.502753Z\", \"end_time\": \"2021-01-28T13:28:31.438669Z\", \"created_time\": \"2021-01-28T13:26:51.739166Z\", \"created_time_dt\": \"2021-01-28T13:26:51.739166Z\", \"duration\": \"0:01:39\", \"iteration\": \"3\", \"goal\": \"accuracy_max\", \"run_name\": \"MinMaxScaler, RandomForest\", \"run_properties\": \"copy=True, feature_range=(0, 1\", \"primary_metric\": 0.83610169, \"best_metric\": 0.84276836}, {\"run_id\": \"AutoML_cb5c23e6-62cb-4b89-9435-42f75acee2df_4\", \"run_number\": 9, \"metric\": null, \"status\": \"Completed\", \"run_type\": \"azureml.scriptrun\", \"training_percent\": \"100\", \"start_time\": \"2021-01-28T13:28:18.15789Z\", \"end_time\": \"2021-01-28T13:30:24.296828Z\", \"created_time\": \"2021-01-28T13:27:41.927992Z\", \"created_time_dt\": \"2021-01-28T13:27:41.927992Z\", \"duration\": \"0:02:42\", \"iteration\": \"4\", \"goal\": \"accuracy_max\", \"run_name\": \"MinMaxScaler, RandomForest\", \"run_properties\": \"copy=True, feature_range=(0, 1\", \"primary_metric\": 0.8259322, \"best_metric\": 0.84276836}, {\"run_id\": \"AutoML_cb5c23e6-62cb-4b89-9435-42f75acee2df_5\", \"run_number\": 10, \"metric\": null, \"status\": \"Completed\", \"run_type\": \"azureml.scriptrun\", \"training_percent\": \"100\", \"start_time\": \"2021-01-28T13:28:47.589123Z\", \"end_time\": \"2021-01-28T13:29:30.461455Z\", \"created_time\": \"2021-01-28T13:28:34.861656Z\", \"created_time_dt\": \"2021-01-28T13:28:34.861656Z\", \"duration\": \"0:00:55\", \"iteration\": \"5\", \"goal\": \"accuracy_max\", \"run_name\": \"MinMaxScaler, SVM\", \"run_properties\": \"copy=True, feature_range=(0, 1\", \"primary_metric\": 0.70576271, \"best_metric\": 0.84276836}, {\"run_id\": \"AutoML_cb5c23e6-62cb-4b89-9435-42f75acee2df_6\", \"run_number\": 11, \"metric\": null, \"status\": \"Completed\", \"run_type\": \"azureml.scriptrun\", \"training_percent\": \"100\", \"start_time\": \"2021-01-28T13:29:45.824024Z\", \"end_time\": \"2021-01-28T13:30:36.503334Z\", \"created_time\": \"2021-01-28T13:29:32.852042Z\", \"created_time_dt\": \"2021-01-28T13:29:32.852042Z\", \"duration\": \"0:01:03\", \"iteration\": \"6\", \"goal\": \"accuracy_max\", \"run_name\": \"MaxAbsScaler, GradientBoosting\", \"run_properties\": \"copy=True\", \"primary_metric\": 0.83276836, \"best_metric\": 0.84276836}, {\"run_id\": \"AutoML_cb5c23e6-62cb-4b89-9435-42f75acee2df_7\", \"run_number\": 12, \"metric\": null, \"status\": \"Completed\", \"run_type\": \"azureml.scriptrun\", \"training_percent\": \"100\", \"start_time\": \"2021-01-28T13:30:39.38463Z\", \"end_time\": \"2021-01-28T13:31:24.903432Z\", \"created_time\": \"2021-01-28T13:30:26.508422Z\", \"created_time_dt\": \"2021-01-28T13:30:26.508422Z\", \"duration\": \"0:00:58\", \"iteration\": \"7\", \"goal\": \"accuracy_max\", \"run_name\": \"SparseNormalizer, XGBoostClassifier\", \"run_properties\": \"<azureml.automl.runtime.shared.model_wrappers.SparseNormalizer object at 0x7f370871c588\", \"primary_metric\": 0.80937853, \"best_metric\": 0.84276836}, {\"run_id\": \"AutoML_cb5c23e6-62cb-4b89-9435-42f75acee2df_8\", \"run_number\": 13, \"metric\": null, \"status\": \"Completed\", \"run_type\": \"azureml.scriptrun\", \"training_percent\": \"100\", \"start_time\": \"2021-01-28T13:30:50.723401Z\", \"end_time\": \"2021-01-28T13:31:38.294655Z\", \"created_time\": \"2021-01-28T13:30:38.916727Z\", \"created_time_dt\": \"2021-01-28T13:30:38.916727Z\", \"duration\": \"0:00:59\", \"iteration\": \"8\", \"goal\": \"accuracy_max\", \"run_name\": \"SparseNormalizer, LightGBM\", \"run_properties\": \"<azureml.automl.runtime.shared.model_wrappers.SparseNormalizer object at 0x7f9f9c47d550\", \"primary_metric\": 0.7360452, \"best_metric\": 0.84276836}, {\"run_id\": \"AutoML_cb5c23e6-62cb-4b89-9435-42f75acee2df_9\", \"run_number\": 14, \"metric\": null, \"status\": \"Completed\", \"run_type\": \"azureml.scriptrun\", \"training_percent\": \"100\", \"start_time\": \"2021-01-28T13:31:42.073606Z\", \"end_time\": \"2021-01-28T13:32:31.072361Z\", \"created_time\": \"2021-01-28T13:31:27.108582Z\", \"created_time_dt\": \"2021-01-28T13:31:27.108582Z\", \"duration\": \"0:01:03\", \"iteration\": \"9\", \"goal\": \"accuracy_max\", \"run_name\": \"StandardScalerWrapper, RandomForest\", \"run_properties\": \"<azureml.automl.runtime.shared.model_wrappers.StandardScalerWrapper object at 0x7f221b8b1550\", \"primary_metric\": 0.85288136, \"best_metric\": 0.85288136}, {\"run_id\": \"AutoML_cb5c23e6-62cb-4b89-9435-42f75acee2df_10\", \"run_number\": 15, \"metric\": null, \"status\": \"Completed\", \"run_type\": \"azureml.scriptrun\", \"training_percent\": \"100\", \"start_time\": \"2021-01-28T13:31:53.67817Z\", \"end_time\": \"2021-01-28T13:32:42.35998Z\", \"created_time\": \"2021-01-28T13:31:40.624783Z\", \"created_time_dt\": \"2021-01-28T13:31:40.624783Z\", \"duration\": \"0:01:01\", \"iteration\": \"10\", \"goal\": \"accuracy_max\", \"run_name\": \"MinMaxScaler, LightGBM\", \"run_properties\": \"copy=True, feature_range=(0, 1\", \"primary_metric\": 0.81615819, \"best_metric\": 0.85288136}, {\"run_id\": \"AutoML_cb5c23e6-62cb-4b89-9435-42f75acee2df_11\", \"run_number\": 16, \"metric\": null, \"status\": \"Completed\", \"run_type\": \"azureml.scriptrun\", \"training_percent\": \"100\", \"start_time\": \"2021-01-28T13:32:47.048111Z\", \"end_time\": \"2021-01-28T13:33:32.2347Z\", \"created_time\": \"2021-01-28T13:32:33.281244Z\", \"created_time_dt\": \"2021-01-28T13:32:33.281244Z\", \"duration\": \"0:00:58\", \"iteration\": \"11\", \"goal\": \"accuracy_max\", \"run_name\": \"RobustScaler, ExtremeRandomTrees\", \"run_properties\": \"copy=True, quantile_range=[25, 75], with_centering=True,\\n             with_scaling=False\", \"primary_metric\": 0.85621469, \"best_metric\": 0.85621469}, {\"run_id\": \"AutoML_cb5c23e6-62cb-4b89-9435-42f75acee2df_12\", \"run_number\": 17, \"metric\": null, \"status\": \"Completed\", \"run_type\": \"azureml.scriptrun\", \"training_percent\": \"100\", \"start_time\": \"2021-01-28T13:32:55.359599Z\", \"end_time\": \"2021-01-28T13:33:45.91644Z\", \"created_time\": \"2021-01-28T13:32:44.62816Z\", \"created_time_dt\": \"2021-01-28T13:32:44.62816Z\", \"duration\": \"0:01:01\", \"iteration\": \"12\", \"goal\": \"accuracy_max\", \"run_name\": \"RobustScaler, ExtremeRandomTrees\", \"run_properties\": \"copy=True, quantile_range=[25, 75], with_centering=True,\\n             with_scaling=False\", \"primary_metric\": 0.84615819, \"best_metric\": 0.85621469}, {\"run_id\": \"AutoML_cb5c23e6-62cb-4b89-9435-42f75acee2df_13\", \"run_number\": 18, \"metric\": null, \"status\": \"Completed\", \"run_type\": \"azureml.scriptrun\", \"training_percent\": \"100\", \"start_time\": \"2021-01-28T13:33:46.836353Z\", \"end_time\": \"2021-01-28T13:34:41.629222Z\", \"created_time\": \"2021-01-28T13:33:34.590739Z\", \"created_time_dt\": \"2021-01-28T13:33:34.590739Z\", \"duration\": \"0:01:07\", \"iteration\": \"13\", \"goal\": \"accuracy_max\", \"run_name\": \"MaxAbsScaler, LightGBM\", \"run_properties\": \"copy=True\", \"primary_metric\": 0.80271186, \"best_metric\": 0.85621469}, {\"run_id\": \"AutoML_cb5c23e6-62cb-4b89-9435-42f75acee2df_14\", \"run_number\": 19, \"metric\": null, \"status\": \"Completed\", \"run_type\": \"azureml.scriptrun\", \"training_percent\": \"100\", \"start_time\": \"2021-01-28T13:34:00.719651Z\", \"end_time\": \"2021-01-28T13:34:46.697028Z\", \"created_time\": \"2021-01-28T13:33:48.329238Z\", \"created_time_dt\": \"2021-01-28T13:33:48.329238Z\", \"duration\": \"0:00:58\", \"iteration\": \"14\", \"goal\": \"accuracy_max\", \"run_name\": \"SparseNormalizer, GradientBoosting\", \"run_properties\": \"<azureml.automl.runtime.shared.model_wrappers.SparseNormalizer object at 0x7f772e79a978\", \"primary_metric\": 0.80627119, \"best_metric\": 0.85621469}, {\"run_id\": \"AutoML_cb5c23e6-62cb-4b89-9435-42f75acee2df_15\", \"run_number\": 20, \"metric\": null, \"status\": \"Completed\", \"run_type\": \"azureml.scriptrun\", \"training_percent\": \"100\", \"start_time\": \"2021-01-28T13:34:55.730438Z\", \"end_time\": \"2021-01-28T13:35:35.712027Z\", \"created_time\": \"2021-01-28T13:34:43.954216Z\", \"created_time_dt\": \"2021-01-28T13:34:43.954216Z\", \"duration\": \"0:00:51\", \"iteration\": \"15\", \"goal\": \"accuracy_max\", \"run_name\": \"RobustScaler, LightGBM\", \"run_properties\": \"copy=True, quantile_range=[10, 90], with_centering=False,\\n             with_scaling=False\", \"primary_metric\": 0.78282486, \"best_metric\": 0.85621469}, {\"run_id\": \"AutoML_cb5c23e6-62cb-4b89-9435-42f75acee2df_16\", \"run_number\": 21, \"metric\": null, \"status\": \"Completed\", \"run_type\": \"azureml.scriptrun\", \"training_percent\": \"100\", \"start_time\": \"2021-01-28T13:35:01.916845Z\", \"end_time\": \"2021-01-28T13:35:52.416179Z\", \"created_time\": \"2021-01-28T13:34:49.262604Z\", \"created_time_dt\": \"2021-01-28T13:34:49.262604Z\", \"duration\": \"0:01:03\", \"iteration\": \"16\", \"goal\": \"accuracy_max\", \"run_name\": \"SparseNormalizer, XGBoostClassifier\", \"run_properties\": \"<azureml.automl.runtime.shared.model_wrappers.SparseNormalizer object at 0x7fa83979cef0\", \"primary_metric\": 0.84621469, \"best_metric\": 0.85621469}, {\"run_id\": \"AutoML_cb5c23e6-62cb-4b89-9435-42f75acee2df_17\", \"run_number\": 22, \"metric\": null, \"status\": \"Completed\", \"run_type\": \"azureml.scriptrun\", \"training_percent\": \"100\", \"start_time\": \"2021-01-28T13:35:51.802833Z\", \"end_time\": \"2021-01-28T13:36:43.299373Z\", \"created_time\": \"2021-01-28T13:35:38.19751Z\", \"created_time_dt\": \"2021-01-28T13:35:38.19751Z\", \"duration\": \"0:01:05\", \"iteration\": \"17\", \"goal\": \"accuracy_max\", \"run_name\": \"StandardScalerWrapper, LightGBM\", \"run_properties\": \"<azureml.automl.runtime.shared.model_wrappers.StandardScalerWrapper object at 0x7f3ea9b3ad68\", \"primary_metric\": 0.75259887, \"best_metric\": 0.85621469}, {\"run_id\": \"AutoML_cb5c23e6-62cb-4b89-9435-42f75acee2df_18\", \"run_number\": 23, \"metric\": null, \"status\": \"Completed\", \"run_type\": \"azureml.scriptrun\", \"training_percent\": \"100\", \"start_time\": \"2021-01-28T13:36:05.815518Z\", \"end_time\": \"2021-01-28T13:36:54.294938Z\", \"created_time\": \"2021-01-28T13:35:54.645469Z\", \"created_time_dt\": \"2021-01-28T13:35:54.645469Z\", \"duration\": \"0:00:59\", \"iteration\": \"18\", \"goal\": \"accuracy_max\", \"run_name\": \"SparseNormalizer, XGBoostClassifier\", \"run_properties\": \"<azureml.automl.runtime.shared.model_wrappers.SparseNormalizer object at 0x7f314406b710\", \"primary_metric\": 0.84271186, \"best_metric\": 0.85621469}, {\"run_id\": \"AutoML_cb5c23e6-62cb-4b89-9435-42f75acee2df_19\", \"run_number\": 24, \"metric\": null, \"status\": \"Completed\", \"run_type\": \"azureml.scriptrun\", \"training_percent\": \"100\", \"start_time\": \"2021-01-28T13:36:57.787939Z\", \"end_time\": \"2021-01-28T13:37:40.503906Z\", \"created_time\": \"2021-01-28T13:36:45.472996Z\", \"created_time_dt\": \"2021-01-28T13:36:45.472996Z\", \"duration\": \"0:00:55\", \"iteration\": \"19\", \"goal\": \"accuracy_max\", \"run_name\": \"SparseNormalizer, LightGBM\", \"run_properties\": \"<azureml.automl.runtime.shared.model_wrappers.SparseNormalizer object at 0x7f67d38aaeb8\", \"primary_metric\": 0.83299435, \"best_metric\": 0.85621469}, {\"run_id\": \"AutoML_cb5c23e6-62cb-4b89-9435-42f75acee2df_20\", \"run_number\": 25, \"metric\": null, \"status\": \"Completed\", \"run_type\": \"azureml.scriptrun\", \"training_percent\": \"100\", \"start_time\": \"2021-01-28T13:37:09.586344Z\", \"end_time\": \"2021-01-28T13:37:55.465129Z\", \"created_time\": \"2021-01-28T13:36:56.443087Z\", \"created_time_dt\": \"2021-01-28T13:36:56.443087Z\", \"duration\": \"0:00:59\", \"iteration\": \"20\", \"goal\": \"accuracy_max\", \"run_name\": \"MaxAbsScaler, ExtremeRandomTrees\", \"run_properties\": \"copy=True\", \"primary_metric\": 0.85621469, \"best_metric\": 0.85621469}, {\"run_id\": \"AutoML_cb5c23e6-62cb-4b89-9435-42f75acee2df_21\", \"run_number\": 26, \"metric\": null, \"status\": \"Completed\", \"run_type\": \"azureml.scriptrun\", \"training_percent\": \"100\", \"start_time\": \"2021-01-28T13:37:56.306788Z\", \"end_time\": \"2021-01-28T13:38:39.257901Z\", \"created_time\": \"2021-01-28T13:37:42.954174Z\", \"created_time_dt\": \"2021-01-28T13:37:42.954174Z\", \"duration\": \"0:00:56\", \"iteration\": \"21\", \"goal\": \"accuracy_max\", \"run_name\": \"StandardScalerWrapper, XGBoostClassifier\", \"run_properties\": \"<azureml.automl.runtime.shared.model_wrappers.StandardScalerWrapper object at 0x7f81adfa9908\", \"primary_metric\": 0.83271186, \"best_metric\": 0.85621469}, {\"run_id\": \"AutoML_cb5c23e6-62cb-4b89-9435-42f75acee2df_22\", \"run_number\": 27, \"metric\": null, \"status\": \"Completed\", \"run_type\": \"azureml.scriptrun\", \"training_percent\": \"100\", \"start_time\": \"2021-01-28T13:38:11.339244Z\", \"end_time\": \"2021-01-28T13:38:59.905201Z\", \"created_time\": \"2021-01-28T13:37:57.730324Z\", \"created_time_dt\": \"2021-01-28T13:37:57.730324Z\", \"duration\": \"0:01:02\", \"iteration\": \"22\", \"goal\": \"accuracy_max\", \"run_name\": \"SparseNormalizer, XGBoostClassifier\", \"run_properties\": \"<azureml.automl.runtime.shared.model_wrappers.SparseNormalizer object at 0x7f1c8c4a5c50\", \"primary_metric\": 0.83293785, \"best_metric\": 0.85621469}, {\"run_id\": \"AutoML_cb5c23e6-62cb-4b89-9435-42f75acee2df_23\", \"run_number\": 28, \"metric\": null, \"status\": \"Completed\", \"run_type\": \"azureml.scriptrun\", \"training_percent\": \"100\", \"start_time\": \"2021-01-28T13:38:54.575146Z\", \"end_time\": \"2021-01-28T13:39:40.545761Z\", \"created_time\": \"2021-01-28T13:38:41.358429Z\", \"created_time_dt\": \"2021-01-28T13:38:41.358429Z\", \"duration\": \"0:00:59\", \"iteration\": \"23\", \"goal\": \"accuracy_max\", \"run_name\": \"StandardScalerWrapper, KNN\", \"run_properties\": \"<azureml.automl.runtime.shared.model_wrappers.StandardScalerWrapper object at 0x7f22bed3cf98\", \"primary_metric\": 0.64887006, \"best_metric\": 0.85621469}, {\"run_id\": \"AutoML_cb5c23e6-62cb-4b89-9435-42f75acee2df_24\", \"run_number\": 29, \"metric\": null, \"status\": \"Completed\", \"run_type\": \"azureml.scriptrun\", \"training_percent\": \"100\", \"start_time\": \"2021-01-28T13:39:19.391616Z\", \"end_time\": \"2021-01-28T13:40:07.395598Z\", \"created_time\": \"2021-01-28T13:39:02.709181Z\", \"created_time_dt\": \"2021-01-28T13:39:02.709181Z\", \"duration\": \"0:01:04\", \"iteration\": \"24\", \"goal\": \"accuracy_max\", \"run_name\": \"MaxAbsScaler, LightGBM\", \"run_properties\": \"copy=True\", \"primary_metric\": 0.80254237, \"best_metric\": 0.85621469}, {\"run_id\": \"AutoML_cb5c23e6-62cb-4b89-9435-42f75acee2df_25\", \"run_number\": 30, \"metric\": null, \"status\": \"Completed\", \"run_type\": \"azureml.scriptrun\", \"training_percent\": \"100\", \"start_time\": \"2021-01-28T13:39:58.211574Z\", \"end_time\": \"2021-01-28T13:40:54.880781Z\", \"created_time\": \"2021-01-28T13:39:47.045437Z\", \"created_time_dt\": \"2021-01-28T13:39:47.045437Z\", \"duration\": \"0:01:07\", \"iteration\": \"25\", \"goal\": \"accuracy_max\", \"run_name\": \"SparseNormalizer, ExtremeRandomTrees\", \"run_properties\": \"<azureml.automl.runtime.shared.model_wrappers.SparseNormalizer object at 0x7f2df2cc50b8\", \"primary_metric\": 0.67909605, \"best_metric\": 0.85621469}, {\"run_id\": \"AutoML_cb5c23e6-62cb-4b89-9435-42f75acee2df_26\", \"run_number\": 31, \"metric\": null, \"status\": \"Completed\", \"run_type\": \"azureml.scriptrun\", \"training_percent\": \"100\", \"start_time\": \"2021-01-28T13:40:25.213122Z\", \"end_time\": \"2021-01-28T13:41:13.913428Z\", \"created_time\": \"2021-01-28T13:40:10.601905Z\", \"created_time_dt\": \"2021-01-28T13:40:10.601905Z\", \"duration\": \"0:01:03\", \"iteration\": \"26\", \"goal\": \"accuracy_max\", \"run_name\": \"StandardScalerWrapper, SGD\", \"run_properties\": \"<azureml.automl.runtime.shared.model_wrappers.StandardScalerWrapper object at 0x7fbb8ef086a0\", \"primary_metric\": 0.8260452, \"best_metric\": 0.85621469}, {\"run_id\": \"AutoML_cb5c23e6-62cb-4b89-9435-42f75acee2df_27\", \"run_number\": 32, \"metric\": null, \"status\": \"Completed\", \"run_type\": \"azureml.scriptrun\", \"training_percent\": \"100\", \"start_time\": \"2021-01-28T13:41:10.685767Z\", \"end_time\": \"2021-01-28T13:42:00.055613Z\", \"created_time\": \"2021-01-28T13:40:58.140006Z\", \"created_time_dt\": \"2021-01-28T13:40:58.140006Z\", \"duration\": \"0:01:01\", \"iteration\": \"27\", \"goal\": \"accuracy_max\", \"run_name\": \"SparseNormalizer, XGBoostClassifier\", \"run_properties\": \"<azureml.automl.runtime.shared.model_wrappers.SparseNormalizer object at 0x7efd24f5e7b8\", \"primary_metric\": 0.81949153, \"best_metric\": 0.85621469}, {\"run_id\": \"AutoML_cb5c23e6-62cb-4b89-9435-42f75acee2df_28\", \"run_number\": 33, \"metric\": null, \"status\": \"Completed\", \"run_type\": \"azureml.scriptrun\", \"training_percent\": \"100\", \"start_time\": \"2021-01-28T13:41:29.613979Z\", \"end_time\": \"2021-01-28T13:42:18.142096Z\", \"created_time\": \"2021-01-28T13:41:16.944492Z\", \"created_time_dt\": \"2021-01-28T13:41:16.944492Z\", \"duration\": \"0:01:01\", \"iteration\": \"28\", \"goal\": \"accuracy_max\", \"run_name\": \"SparseNormalizer, XGBoostClassifier\", \"run_properties\": \"<azureml.automl.runtime.shared.model_wrappers.SparseNormalizer object at 0x7f72a03b9dd8\", \"primary_metric\": 0.85621469, \"best_metric\": 0.85621469}, {\"run_id\": \"AutoML_cb5c23e6-62cb-4b89-9435-42f75acee2df_29\", \"run_number\": 34, \"metric\": null, \"status\": \"Completed\", \"run_type\": \"azureml.scriptrun\", \"training_percent\": \"100\", \"start_time\": \"2021-01-28T13:42:14.136779Z\", \"end_time\": \"2021-01-28T13:43:01.757852Z\", \"created_time\": \"2021-01-28T13:42:02.182419Z\", \"created_time_dt\": \"2021-01-28T13:42:02.182419Z\", \"duration\": \"0:00:59\", \"iteration\": \"29\", \"goal\": \"accuracy_max\", \"run_name\": \"MinMaxScaler, LightGBM\", \"run_properties\": \"copy=True, feature_range=(0, 1\", \"primary_metric\": 0.8360452, \"best_metric\": 0.85621469}, {\"run_id\": \"AutoML_cb5c23e6-62cb-4b89-9435-42f75acee2df_30\", \"run_number\": 35, \"metric\": null, \"status\": \"Completed\", \"run_type\": \"azureml.scriptrun\", \"training_percent\": \"100\", \"start_time\": \"2021-01-28T13:42:35.558522Z\", \"end_time\": \"2021-01-28T13:43:18.862616Z\", \"created_time\": \"2021-01-28T13:42:22.245933Z\", \"created_time_dt\": \"2021-01-28T13:42:22.245933Z\", \"duration\": \"0:00:56\", \"iteration\": \"30\", \"goal\": \"accuracy_max\", \"run_name\": \"StandardScalerWrapper, ExtremeRandomTrees\", \"run_properties\": \"<azureml.automl.runtime.shared.model_wrappers.StandardScalerWrapper object at 0x7f32082fddd8\", \"primary_metric\": 0.58785311, \"best_metric\": 0.85621469}, {\"run_id\": \"AutoML_cb5c23e6-62cb-4b89-9435-42f75acee2df_31\", \"run_number\": 36, \"metric\": null, \"status\": \"Canceled\", \"run_type\": \"azureml.scriptrun\", \"training_percent\": \"100\", \"start_time\": \"2021-01-28T13:43:18.090975Z\", \"end_time\": \"2021-01-28T13:43:28.139907Z\", \"created_time\": \"2021-01-28T13:43:05.455089Z\", \"created_time_dt\": \"2021-01-28T13:43:05.455089Z\", \"duration\": \"0:00:22\", \"iteration\": \"31\", \"goal\": null, \"run_name\": \"Canceled\", \"run_properties\": null}, {\"run_id\": \"AutoML_cb5c23e6-62cb-4b89-9435-42f75acee2df_33\", \"run_number\": 37, \"metric\": null, \"status\": \"Completed\", \"run_type\": \"azureml.scriptrun\", \"training_percent\": \"100\", \"start_time\": \"2021-01-28T13:44:17.655657Z\", \"end_time\": \"2021-01-28T13:45:43.618505Z\", \"created_time\": \"2021-01-28T13:43:29.914547Z\", \"created_time_dt\": \"2021-01-28T13:43:29.914547Z\", \"duration\": \"0:02:13\", \"iteration\": \"33\", \"goal\": \"accuracy_max\", \"run_name\": \"StackEnsemble\", \"run_properties\": \"base_learners=[('28',\\n                                        Pipeline(memory=None,\\n                                                 steps=[('sparsenormalizer',\\n                                                         <azureml.automl.runtime.shared.model_wrappers.SparseNormalizer object at 0x7f1a64045d68>\", \"primary_metric\": 0.85627119, \"best_metric\": 0.87632768}, {\"run_id\": \"AutoML_cb5c23e6-62cb-4b89-9435-42f75acee2df_32\", \"run_number\": 38, \"metric\": null, \"status\": \"Completed\", \"run_type\": \"azureml.scriptrun\", \"training_percent\": \"100\", \"start_time\": \"2021-01-28T13:43:43.291609Z\", \"end_time\": \"2021-01-28T13:45:08.116053Z\", \"created_time\": \"2021-01-28T13:43:30.072491Z\", \"created_time_dt\": \"2021-01-28T13:43:30.072491Z\", \"duration\": \"0:01:38\", \"iteration\": \"32\", \"goal\": \"accuracy_max\", \"run_name\": \"VotingEnsemble\", \"run_properties\": \"classification_labels=None,\\n                              estimators=[('28',\\n                                           Pipeline(memory=None,\\n                                                    steps=[('sparsenormalizer',\\n                                                            <azureml.automl.runtime.shared.model_wrappers.SparseNormalizer object at 0x7f210435d978>\", \"primary_metric\": 0.87632768, \"best_metric\": 0.87632768}], \"children_metrics\": {\"categories\": [0], \"series\": {\"average_precision_score_weighted\": [{\"categories\": [\"0\", \"1\", \"2\", \"3\", \"4\", \"5\", \"6\", \"7\", \"8\", \"9\", \"10\", \"11\", \"12\", \"13\", \"14\", \"15\", \"16\", \"17\", \"18\", \"19\", \"20\", \"21\", \"22\", \"23\", \"24\", \"25\", \"26\", \"27\", \"28\", \"29\", \"30\", \"32\", \"33\"], \"mode\": \"markers\", \"name\": \"average_precision_score_weighted\", \"stepped\": false, \"type\": \"scatter\", \"data\": [0.8955370396295249, 0.9103506263314479, 0.918781443998497, 0.9048851183938172, 0.9069907262572825, 0.7675756738587173, 0.9242652199876504, 0.8720059756545379, 0.8458920762759519, 0.9274046220022674, 0.9128183909604417, 0.914591845682612, 0.9141418747924689, 0.8753573638077337, 0.8994008913774897, 0.9027295052958386, 0.9103343059865943, 0.8761420002565338, 0.8921101577103491, 0.9027199794815131, 0.9067474907407647, 0.9060200443651156, 0.885903338085374, 0.6022114897019847, 0.910192270395133, 0.5713288348344135, 0.8917898214997111, 0.899212617462565, 0.9065528093757805, 0.9118663849957143, 0.658045772904373, 0.9272554769954265, 0.923790104947075]}, {\"categories\": [\"0\", \"1\", \"2\", \"3\", \"4\", \"5\", \"6\", \"7\", \"8\", \"9\", \"10\", \"11\", \"12\", \"13\", \"14\", \"15\", \"16\", \"17\", \"18\", \"19\", \"20\", \"21\", \"22\", \"23\", \"24\", \"25\", \"26\", \"27\", \"28\", \"29\", \"30\", \"32\", \"33\"], \"mode\": \"lines\", \"name\": \"average_precision_score_weighted_max\", \"stepped\": true, \"type\": \"scatter\", \"data\": [0.8955370396295249, 0.9103506263314479, 0.918781443998497, 0.918781443998497, 0.918781443998497, 0.918781443998497, 0.9242652199876504, 0.9242652199876504, 0.9242652199876504, 0.9274046220022674, 0.9274046220022674, 0.9274046220022674, 0.9274046220022674, 0.9274046220022674, 0.9274046220022674, 0.9274046220022674, 0.9274046220022674, 0.9274046220022674, 0.9274046220022674, 0.9274046220022674, 0.9274046220022674, 0.9274046220022674, 0.9274046220022674, 0.9274046220022674, 0.9274046220022674, 0.9274046220022674, 0.9274046220022674, 0.9274046220022674, 0.9274046220022674, 0.9274046220022674, 0.9274046220022674, 0.9274046220022674, 0.9274046220022674]}], \"recall_score_weighted\": [{\"categories\": [\"0\", \"1\", \"2\", \"3\", \"4\", \"5\", \"6\", \"7\", \"8\", \"9\", \"10\", \"11\", \"12\", \"13\", \"14\", \"15\", \"16\", \"17\", \"18\", \"19\", \"20\", \"21\", \"22\", \"23\", \"24\", \"25\", \"26\", \"27\", \"28\", \"29\", \"30\", \"32\", \"33\"], \"mode\": \"markers\", \"name\": \"recall_score_weighted\", \"stepped\": false, \"type\": \"scatter\", \"data\": [0.8059887005649717, 0.8259322033898304, 0.8427683615819209, 0.8361016949152542, 0.8259322033898305, 0.7057627118644068, 0.8327683615819209, 0.8093785310734465, 0.736045197740113, 0.8528813559322034, 0.8161581920903955, 0.8562146892655367, 0.8461581920903954, 0.8027118644067797, 0.806271186440678, 0.7828248587570622, 0.8462146892655367, 0.7525988700564972, 0.8427118644067797, 0.8329943502824859, 0.8562146892655367, 0.8327118644067797, 0.8329378531073447, 0.6488700564971752, 0.8025423728813559, 0.67909604519774, 0.8260451977401131, 0.8194915254237287, 0.8562146892655367, 0.836045197740113, 0.5878531073446327, 0.8763276836158193, 0.8562711864406779]}, {\"categories\": [\"0\", \"1\", \"2\", \"3\", \"4\", \"5\", \"6\", \"7\", \"8\", \"9\", \"10\", \"11\", \"12\", \"13\", \"14\", \"15\", \"16\", \"17\", \"18\", \"19\", \"20\", \"21\", \"22\", \"23\", \"24\", \"25\", \"26\", \"27\", \"28\", \"29\", \"30\", \"32\", \"33\"], \"mode\": \"lines\", \"name\": \"recall_score_weighted_max\", \"stepped\": true, \"type\": \"scatter\", \"data\": [0.8059887005649717, 0.8259322033898304, 0.8427683615819209, 0.8427683615819209, 0.8427683615819209, 0.8427683615819209, 0.8427683615819209, 0.8427683615819209, 0.8427683615819209, 0.8528813559322034, 0.8528813559322034, 0.8562146892655367, 0.8562146892655367, 0.8562146892655367, 0.8562146892655367, 0.8562146892655367, 0.8562146892655367, 0.8562146892655367, 0.8562146892655367, 0.8562146892655367, 0.8562146892655367, 0.8562146892655367, 0.8562146892655367, 0.8562146892655367, 0.8562146892655367, 0.8562146892655367, 0.8562146892655367, 0.8562146892655367, 0.8562146892655367, 0.8562146892655367, 0.8562146892655367, 0.8763276836158193, 0.8763276836158193]}], \"norm_macro_recall\": [{\"categories\": [\"0\", \"1\", \"2\", \"3\", \"4\", \"5\", \"6\", \"7\", \"8\", \"9\", \"10\", \"11\", \"12\", \"13\", \"14\", \"15\", \"16\", \"17\", \"18\", \"19\", \"20\", \"21\", \"22\", \"23\", \"24\", \"25\", \"26\", \"27\", \"28\", \"29\", \"30\", \"32\", \"33\"], \"mode\": \"markers\", \"name\": \"norm_macro_recall\", \"stepped\": false, \"type\": \"scatter\", \"data\": [0.5520418050941306, 0.6120251937984496, 0.6344310631229236, 0.5926453488372093, 0.6141680509413068, 0.24068936877076408, 0.6063358250276855, 0.5205024916943521, 0.275952380952381, 0.624642857142857, 0.4989202657807309, 0.6327893133997786, 0.5827893133997785, 0.5156215393133998, 0.5011738648947951, 0.37035714285714283, 0.6053488372093023, 0.2990393133997785, 0.6003488372093024, 0.6086821705426356, 0.614107142857143, 0.5830024916943521, 0.569515503875969, 0.10777408637873753, 0.484125138427464, 0.0, 0.600562015503876, 0.5443964562569213, 0.6536738648947951, 0.5896691583610189, 0.19754983388704317, 0.6861904761904762, 0.6577893133997785]}, {\"categories\": [\"0\", \"1\", \"2\", \"3\", \"4\", \"5\", \"6\", \"7\", \"8\", \"9\", \"10\", \"11\", \"12\", \"13\", \"14\", \"15\", \"16\", \"17\", \"18\", \"19\", \"20\", \"21\", \"22\", \"23\", \"24\", \"25\", \"26\", \"27\", \"28\", \"29\", \"30\", \"32\", \"33\"], \"mode\": \"lines\", \"name\": \"norm_macro_recall_max\", \"stepped\": true, \"type\": \"scatter\", \"data\": [0.5520418050941306, 0.6120251937984496, 0.6344310631229236, 0.6344310631229236, 0.6344310631229236, 0.6344310631229236, 0.6344310631229236, 0.6344310631229236, 0.6344310631229236, 0.6344310631229236, 0.6344310631229236, 0.6344310631229236, 0.6344310631229236, 0.6344310631229236, 0.6344310631229236, 0.6344310631229236, 0.6344310631229236, 0.6344310631229236, 0.6344310631229236, 0.6344310631229236, 0.6344310631229236, 0.6344310631229236, 0.6344310631229236, 0.6344310631229236, 0.6344310631229236, 0.6344310631229236, 0.6344310631229236, 0.6344310631229236, 0.6536738648947951, 0.6536738648947951, 0.6536738648947951, 0.6861904761904762, 0.6861904761904762]}], \"f1_score_macro\": [{\"categories\": [\"0\", \"1\", \"2\", \"3\", \"4\", \"5\", \"6\", \"7\", \"8\", \"9\", \"10\", \"11\", \"12\", \"13\", \"14\", \"15\", \"16\", \"17\", \"18\", \"19\", \"20\", \"21\", \"22\", \"23\", \"24\", \"25\", \"26\", \"27\", \"28\", \"29\", \"30\", \"32\", \"33\"], \"mode\": \"markers\", \"name\": \"f1_score_macro\", \"stepped\": false, \"type\": \"scatter\", \"data\": [0.7682096405971308, 0.7972526241921125, 0.8129908696504442, 0.8003691493274514, 0.7956577320409476, 0.6083941113414847, 0.7986788967628246, 0.7611013563473851, 0.6252048522662619, 0.8172263864907278, 0.7625919451180303, 0.8237410712567863, 0.8065373416378913, 0.7522535529567671, 0.7541738209179799, 0.6954283489899218, 0.8071886883069187, 0.6489583192971069, 0.7999186947598323, 0.8017629707082936, 0.8208569471087568, 0.794854593019428, 0.7959166058112743, 0.5259782688766534, 0.7515179486039563, 0.40276783177038933, 0.7907399411614543, 0.7753155759539461, 0.8253805066133149, 0.7987269483043219, 0.493065352239087, 0.8490680142814344, 0.8258869699019735]}, {\"categories\": [\"0\", \"1\", \"2\", \"3\", \"4\", \"5\", \"6\", \"7\", \"8\", \"9\", \"10\", \"11\", \"12\", \"13\", \"14\", \"15\", \"16\", \"17\", \"18\", \"19\", \"20\", \"21\", \"22\", \"23\", \"24\", \"25\", \"26\", \"27\", \"28\", \"29\", \"30\", \"32\", \"33\"], \"mode\": \"lines\", \"name\": \"f1_score_macro_max\", \"stepped\": true, \"type\": \"scatter\", \"data\": [0.7682096405971308, 0.7972526241921125, 0.8129908696504442, 0.8129908696504442, 0.8129908696504442, 0.8129908696504442, 0.8129908696504442, 0.8129908696504442, 0.8129908696504442, 0.8172263864907278, 0.8172263864907278, 0.8237410712567863, 0.8237410712567863, 0.8237410712567863, 0.8237410712567863, 0.8237410712567863, 0.8237410712567863, 0.8237410712567863, 0.8237410712567863, 0.8237410712567863, 0.8237410712567863, 0.8237410712567863, 0.8237410712567863, 0.8237410712567863, 0.8237410712567863, 0.8237410712567863, 0.8237410712567863, 0.8237410712567863, 0.8253805066133149, 0.8253805066133149, 0.8253805066133149, 0.8490680142814344, 0.8490680142814344]}], \"AUC_micro\": [{\"categories\": [\"0\", \"1\", \"2\", \"3\", \"4\", \"5\", \"6\", \"7\", \"8\", \"9\", \"10\", \"11\", \"12\", \"13\", \"14\", \"15\", \"16\", \"17\", \"18\", \"19\", \"20\", \"21\", \"22\", \"23\", \"24\", \"25\", \"26\", \"27\", \"28\", \"29\", \"30\", \"32\", \"33\"], \"mode\": \"markers\", \"name\": \"AUC_micro\", \"stepped\": false, \"type\": \"scatter\", \"data\": [0.8880105014523284, 0.8999905678444892, 0.9146254109610904, 0.897376599955313, 0.9011672092949026, 0.7798621644482748, 0.9150370902358838, 0.8762564716396948, 0.8328210603594114, 0.9146420249608989, 0.8947004372945194, 0.9096557981422964, 0.9019430719142008, 0.8780171566280442, 0.8793395575983911, 0.8692911360081714, 0.9040437294519454, 0.8531453764882377, 0.8893709023588368, 0.8939478119314372, 0.8942616904465511, 0.9025456446104249, 0.8885109642822944, 0.6378952248715247, 0.9004193399087107, 0.6689735388936767, 0.8846999744645536, 0.8924720386862013, 0.9038390788087716, 0.8939597018736635, 0.5989770180982477, 0.9167507580835649, 0.9103348016215008]}, {\"categories\": [\"0\", \"1\", \"2\", \"3\", \"4\", \"5\", \"6\", \"7\", \"8\", \"9\", \"10\", \"11\", \"12\", \"13\", \"14\", \"15\", \"16\", \"17\", \"18\", \"19\", \"20\", \"21\", \"22\", \"23\", \"24\", \"25\", \"26\", \"27\", \"28\", \"29\", \"30\", \"32\", \"33\"], \"mode\": \"lines\", \"name\": \"AUC_micro_max\", \"stepped\": true, \"type\": \"scatter\", \"data\": [0.8880105014523284, 0.8999905678444892, 0.9146254109610904, 0.9146254109610904, 0.9146254109610904, 0.9146254109610904, 0.9150370902358838, 0.9150370902358838, 0.9150370902358838, 0.9150370902358838, 0.9150370902358838, 0.9150370902358838, 0.9150370902358838, 0.9150370902358838, 0.9150370902358838, 0.9150370902358838, 0.9150370902358838, 0.9150370902358838, 0.9150370902358838, 0.9150370902358838, 0.9150370902358838, 0.9150370902358838, 0.9150370902358838, 0.9150370902358838, 0.9150370902358838, 0.9150370902358838, 0.9150370902358838, 0.9150370902358838, 0.9150370902358838, 0.9150370902358838, 0.9150370902358838, 0.9167507580835649, 0.9167507580835649]}], \"log_loss\": [{\"categories\": [\"0\", \"1\", \"2\", \"3\", \"4\", \"5\", \"6\", \"7\", \"8\", \"9\", \"10\", \"11\", \"12\", \"13\", \"14\", \"15\", \"16\", \"17\", \"18\", \"19\", \"20\", \"21\", \"22\", \"23\", \"24\", \"25\", \"26\", \"27\", \"28\", \"29\", \"30\", \"32\", \"33\"], \"mode\": \"markers\", \"name\": \"log_loss\", \"stepped\": false, \"type\": \"scatter\", \"data\": [0.5282491261622873, 0.43217688137359717, 0.3813672729263816, 0.4086705596556778, 0.4065174401306014, 0.5901138925042266, 0.37403313582270703, 0.4899611430866921, 0.5184056250785269, 0.39926880901911177, 0.4331556229669603, 0.4054115868186151, 0.4102742500578974, 0.48738617928676964, 0.44216713509860994, 0.4849891849008321, 0.3963164200575965, 0.5072567431176431, 0.414322494277926, 0.41472333246893617, 0.43535522392678583, 0.4329821181628268, 0.492154994379979, 0.7595265621929472, 0.41822263984135405, 0.6369996041966861, 0.42981698519664147, 0.43165180324010277, 0.4114366822410539, 0.44089840196050084, 0.6900450896525976, 0.3832812483192415, 0.38786639781535165]}, {\"categories\": [\"0\", \"1\", \"2\", \"3\", \"4\", \"5\", \"6\", \"7\", \"8\", \"9\", \"10\", \"11\", \"12\", \"13\", \"14\", \"15\", \"16\", \"17\", \"18\", \"19\", \"20\", \"21\", \"22\", \"23\", \"24\", \"25\", \"26\", \"27\", \"28\", \"29\", \"30\", \"32\", \"33\"], \"mode\": \"lines\", \"name\": \"log_loss_min\", \"stepped\": true, \"type\": \"scatter\", \"data\": [0.5282491261622873, 0.43217688137359717, 0.3813672729263816, 0.3813672729263816, 0.3813672729263816, 0.3813672729263816, 0.37403313582270703, 0.37403313582270703, 0.37403313582270703, 0.37403313582270703, 0.37403313582270703, 0.37403313582270703, 0.37403313582270703, 0.37403313582270703, 0.37403313582270703, 0.37403313582270703, 0.37403313582270703, 0.37403313582270703, 0.37403313582270703, 0.37403313582270703, 0.37403313582270703, 0.37403313582270703, 0.37403313582270703, 0.37403313582270703, 0.37403313582270703, 0.37403313582270703, 0.37403313582270703, 0.37403313582270703, 0.37403313582270703, 0.37403313582270703, 0.37403313582270703, 0.37403313582270703, 0.37403313582270703]}], \"weighted_accuracy\": [{\"categories\": [\"0\", \"1\", \"2\", \"3\", \"4\", \"5\", \"6\", \"7\", \"8\", \"9\", \"10\", \"11\", \"12\", \"13\", \"14\", \"15\", \"16\", \"17\", \"18\", \"19\", \"20\", \"21\", \"22\", \"23\", \"24\", \"25\", \"26\", \"27\", \"28\", \"29\", \"30\", \"32\", \"33\"], \"mode\": \"markers\", \"name\": \"weighted_accuracy\", \"stepped\": false, \"type\": \"scatter\", \"data\": [0.8252063202764133, 0.8406325321291572, 0.8601817936768386, 0.8629282798819402, 0.838906347850136, 0.7634458596757183, 0.8519093661217457, 0.8396048623725025, 0.8032567402089587, 0.8788671107313715, 0.8613333959821501, 0.8834692375762657, 0.8828902240231009, 0.8359612739636877, 0.8445948513388919, 0.8482943439246929, 0.8743809155217802, 0.8209031651253822, 0.8717026983916979, 0.8533820798830117, 0.8899561268687999, 0.8603107447254438, 0.8655665575670499, 0.7158617851697886, 0.8424900769632471, 0.7971865900207855, 0.8441635991415464, 0.8515679960168543, 0.876873724303166, 0.8652911368823064, 0.5643299696689053, 0.8986147612977045, 0.8752247217176657]}, {\"categories\": [\"0\", \"1\", \"2\", \"3\", \"4\", \"5\", \"6\", \"7\", \"8\", \"9\", \"10\", \"11\", \"12\", \"13\", \"14\", \"15\", \"16\", \"17\", \"18\", \"19\", \"20\", \"21\", \"22\", \"23\", \"24\", \"25\", \"26\", \"27\", \"28\", \"29\", \"30\", \"32\", \"33\"], \"mode\": \"lines\", \"name\": \"weighted_accuracy_max\", \"stepped\": true, \"type\": \"scatter\", \"data\": [0.8252063202764133, 0.8406325321291572, 0.8601817936768386, 0.8629282798819402, 0.8629282798819402, 0.8629282798819402, 0.8629282798819402, 0.8629282798819402, 0.8629282798819402, 0.8788671107313715, 0.8788671107313715, 0.8834692375762657, 0.8834692375762657, 0.8834692375762657, 0.8834692375762657, 0.8834692375762657, 0.8834692375762657, 0.8834692375762657, 0.8834692375762657, 0.8834692375762657, 0.8899561268687999, 0.8899561268687999, 0.8899561268687999, 0.8899561268687999, 0.8899561268687999, 0.8899561268687999, 0.8899561268687999, 0.8899561268687999, 0.8899561268687999, 0.8899561268687999, 0.8899561268687999, 0.8986147612977045, 0.8986147612977045]}], \"f1_score_micro\": [{\"categories\": [\"0\", \"1\", \"2\", \"3\", \"4\", \"5\", \"6\", \"7\", \"8\", \"9\", \"10\", \"11\", \"12\", \"13\", \"14\", \"15\", \"16\", \"17\", \"18\", \"19\", \"20\", \"21\", \"22\", \"23\", \"24\", \"25\", \"26\", \"27\", \"28\", \"29\", \"30\", \"32\", \"33\"], \"mode\": \"markers\", \"name\": \"f1_score_micro\", \"stepped\": false, \"type\": \"scatter\", \"data\": [0.8059887005649718, 0.8259322033898304, 0.8427683615819209, 0.8361016949152542, 0.8259322033898305, 0.7057627118644068, 0.8327683615819209, 0.8093785310734465, 0.736045197740113, 0.8528813559322034, 0.8161581920903955, 0.8562146892655367, 0.8461581920903954, 0.8027118644067798, 0.806271186440678, 0.7828248587570622, 0.8462146892655367, 0.7525988700564972, 0.8427118644067797, 0.8329943502824859, 0.8562146892655367, 0.8327118644067797, 0.8329378531073447, 0.6488700564971752, 0.8025423728813559, 0.67909604519774, 0.8260451977401131, 0.8194915254237289, 0.8562146892655367, 0.836045197740113, 0.5878531073446328, 0.8763276836158193, 0.8562711864406779]}, {\"categories\": [\"0\", \"1\", \"2\", \"3\", \"4\", \"5\", \"6\", \"7\", \"8\", \"9\", \"10\", \"11\", \"12\", \"13\", \"14\", \"15\", \"16\", \"17\", \"18\", \"19\", \"20\", \"21\", \"22\", \"23\", \"24\", \"25\", \"26\", \"27\", \"28\", \"29\", \"30\", \"32\", \"33\"], \"mode\": \"lines\", \"name\": \"f1_score_micro_max\", \"stepped\": true, \"type\": \"scatter\", \"data\": [0.8059887005649718, 0.8259322033898304, 0.8427683615819209, 0.8427683615819209, 0.8427683615819209, 0.8427683615819209, 0.8427683615819209, 0.8427683615819209, 0.8427683615819209, 0.8528813559322034, 0.8528813559322034, 0.8562146892655367, 0.8562146892655367, 0.8562146892655367, 0.8562146892655367, 0.8562146892655367, 0.8562146892655367, 0.8562146892655367, 0.8562146892655367, 0.8562146892655367, 0.8562146892655367, 0.8562146892655367, 0.8562146892655367, 0.8562146892655367, 0.8562146892655367, 0.8562146892655367, 0.8562146892655367, 0.8562146892655367, 0.8562146892655367, 0.8562146892655367, 0.8562146892655367, 0.8763276836158193, 0.8763276836158193]}], \"balanced_accuracy\": [{\"categories\": [\"0\", \"1\", \"2\", \"3\", \"4\", \"5\", \"6\", \"7\", \"8\", \"9\", \"10\", \"11\", \"12\", \"13\", \"14\", \"15\", \"16\", \"17\", \"18\", \"19\", \"20\", \"21\", \"22\", \"23\", \"24\", \"25\", \"26\", \"27\", \"28\", \"29\", \"30\", \"32\", \"33\"], \"mode\": \"markers\", \"name\": \"balanced_accuracy\", \"stepped\": false, \"type\": \"scatter\", \"data\": [0.7760209025470652, 0.8060125968992248, 0.8172155315614618, 0.7963226744186047, 0.8070840254706534, 0.620344684385382, 0.8031679125138428, 0.7602512458471761, 0.6379761904761905, 0.8123214285714285, 0.7494601328903654, 0.8163946566998893, 0.7913946566998893, 0.7578107696566999, 0.7505869324473975, 0.6851785714285714, 0.802674418604651, 0.6495196566998892, 0.8001744186046512, 0.8043410852713178, 0.8070535714285715, 0.7915012458471761, 0.7847577519379845, 0.5513870431893688, 0.7420625692137319, 0.5, 0.8002810077519381, 0.7721982281284607, 0.8268369324473976, 0.7948345791805094, 0.5987749169435216, 0.843095238095238, 0.8288946566998894]}, {\"categories\": [\"0\", \"1\", \"2\", \"3\", \"4\", \"5\", \"6\", \"7\", \"8\", \"9\", \"10\", \"11\", \"12\", \"13\", \"14\", \"15\", \"16\", \"17\", \"18\", \"19\", \"20\", \"21\", \"22\", \"23\", \"24\", \"25\", \"26\", \"27\", \"28\", \"29\", \"30\", \"32\", \"33\"], \"mode\": \"lines\", \"name\": \"balanced_accuracy_max\", \"stepped\": true, \"type\": \"scatter\", \"data\": [0.7760209025470652, 0.8060125968992248, 0.8172155315614618, 0.8172155315614618, 0.8172155315614618, 0.8172155315614618, 0.8172155315614618, 0.8172155315614618, 0.8172155315614618, 0.8172155315614618, 0.8172155315614618, 0.8172155315614618, 0.8172155315614618, 0.8172155315614618, 0.8172155315614618, 0.8172155315614618, 0.8172155315614618, 0.8172155315614618, 0.8172155315614618, 0.8172155315614618, 0.8172155315614618, 0.8172155315614618, 0.8172155315614618, 0.8172155315614618, 0.8172155315614618, 0.8172155315614618, 0.8172155315614618, 0.8172155315614618, 0.8268369324473976, 0.8268369324473976, 0.8268369324473976, 0.843095238095238, 0.843095238095238]}], \"f1_score_weighted\": [{\"categories\": [\"0\", \"1\", \"2\", \"3\", \"4\", \"5\", \"6\", \"7\", \"8\", \"9\", \"10\", \"11\", \"12\", \"13\", \"14\", \"15\", \"16\", \"17\", \"18\", \"19\", \"20\", \"21\", \"22\", \"23\", \"24\", \"25\", \"26\", \"27\", \"28\", \"29\", \"30\", \"32\", \"33\"], \"mode\": \"markers\", \"name\": \"f1_score_weighted\", \"stepped\": false, \"type\": \"scatter\", \"data\": [0.8014398448329555, 0.8237396450256732, 0.8408278727509885, 0.8311723590593036, 0.825219277602123, 0.6775397848409532, 0.8287339421718368, 0.8039757220257486, 0.6920924975909098, 0.8471263617228966, 0.8021759951947371, 0.8493430952594061, 0.836941995372815, 0.7888122775759685, 0.7911134312566814, 0.7496145898483952, 0.8406671678570078, 0.7177650913719248, 0.8341702288093698, 0.8295428462047711, 0.8473573791125336, 0.8267330740257194, 0.8262696578105186, 0.607253328944487, 0.7919837016386702, 0.5526564268547016, 0.8226287751156797, 0.8107603930782314, 0.8527527406895835, 0.82925094739189, 0.523797037908873, 0.870270678532381, 0.8516802261848175]}, {\"categories\": [\"0\", \"1\", \"2\", \"3\", \"4\", \"5\", \"6\", \"7\", \"8\", \"9\", \"10\", \"11\", \"12\", \"13\", \"14\", \"15\", \"16\", \"17\", \"18\", \"19\", \"20\", \"21\", \"22\", \"23\", \"24\", \"25\", \"26\", \"27\", \"28\", \"29\", \"30\", \"32\", \"33\"], \"mode\": \"lines\", \"name\": \"f1_score_weighted_max\", \"stepped\": true, \"type\": \"scatter\", \"data\": [0.8014398448329555, 0.8237396450256732, 0.8408278727509885, 0.8408278727509885, 0.8408278727509885, 0.8408278727509885, 0.8408278727509885, 0.8408278727509885, 0.8408278727509885, 0.8471263617228966, 0.8471263617228966, 0.8493430952594061, 0.8493430952594061, 0.8493430952594061, 0.8493430952594061, 0.8493430952594061, 0.8493430952594061, 0.8493430952594061, 0.8493430952594061, 0.8493430952594061, 0.8493430952594061, 0.8493430952594061, 0.8493430952594061, 0.8493430952594061, 0.8493430952594061, 0.8493430952594061, 0.8493430952594061, 0.8493430952594061, 0.8527527406895835, 0.8527527406895835, 0.8527527406895835, 0.870270678532381, 0.870270678532381]}], \"precision_score_micro\": [{\"categories\": [\"0\", \"1\", \"2\", \"3\", \"4\", \"5\", \"6\", \"7\", \"8\", \"9\", \"10\", \"11\", \"12\", \"13\", \"14\", \"15\", \"16\", \"17\", \"18\", \"19\", \"20\", \"21\", \"22\", \"23\", \"24\", \"25\", \"26\", \"27\", \"28\", \"29\", \"30\", \"32\", \"33\"], \"mode\": \"markers\", \"name\": \"precision_score_micro\", \"stepped\": false, \"type\": \"scatter\", \"data\": [0.8059887005649717, 0.8259322033898304, 0.8427683615819209, 0.8361016949152542, 0.8259322033898305, 0.7057627118644068, 0.8327683615819209, 0.8093785310734465, 0.736045197740113, 0.8528813559322034, 0.8161581920903955, 0.8562146892655367, 0.8461581920903954, 0.8027118644067797, 0.806271186440678, 0.7828248587570622, 0.8462146892655367, 0.7525988700564972, 0.8427118644067797, 0.8329943502824859, 0.8562146892655367, 0.8327118644067797, 0.8329378531073447, 0.6488700564971752, 0.8025423728813559, 0.67909604519774, 0.8260451977401131, 0.8194915254237287, 0.8562146892655367, 0.836045197740113, 0.5878531073446327, 0.8763276836158193, 0.8562711864406779]}, {\"categories\": [\"0\", \"1\", \"2\", \"3\", \"4\", \"5\", \"6\", \"7\", \"8\", \"9\", \"10\", \"11\", \"12\", \"13\", \"14\", \"15\", \"16\", \"17\", \"18\", \"19\", \"20\", \"21\", \"22\", \"23\", \"24\", \"25\", \"26\", \"27\", \"28\", \"29\", \"30\", \"32\", \"33\"], \"mode\": \"lines\", \"name\": \"precision_score_micro_max\", \"stepped\": true, \"type\": \"scatter\", \"data\": [0.8059887005649717, 0.8259322033898304, 0.8427683615819209, 0.8427683615819209, 0.8427683615819209, 0.8427683615819209, 0.8427683615819209, 0.8427683615819209, 0.8427683615819209, 0.8528813559322034, 0.8528813559322034, 0.8562146892655367, 0.8562146892655367, 0.8562146892655367, 0.8562146892655367, 0.8562146892655367, 0.8562146892655367, 0.8562146892655367, 0.8562146892655367, 0.8562146892655367, 0.8562146892655367, 0.8562146892655367, 0.8562146892655367, 0.8562146892655367, 0.8562146892655367, 0.8562146892655367, 0.8562146892655367, 0.8562146892655367, 0.8562146892655367, 0.8562146892655367, 0.8562146892655367, 0.8763276836158193, 0.8763276836158193]}], \"precision_score_macro\": [{\"categories\": [\"0\", \"1\", \"2\", \"3\", \"4\", \"5\", \"6\", \"7\", \"8\", \"9\", \"10\", \"11\", \"12\", \"13\", \"14\", \"15\", \"16\", \"17\", \"18\", \"19\", \"20\", \"21\", \"22\", \"23\", \"24\", \"25\", \"26\", \"27\", \"28\", \"29\", \"30\", \"32\", \"33\"], \"mode\": \"markers\", \"name\": \"precision_score_macro\", \"stepped\": false, \"type\": \"scatter\", \"data\": [0.7889041743265773, 0.8086642059265495, 0.8235876106892895, 0.8239880952380952, 0.8027035841070367, 0.6743476704135495, 0.81650353217226, 0.7842618251313904, 0.7693400768179093, 0.8596358667991796, 0.8309955634427684, 0.8617367867268243, 0.8594004252618719, 0.7998373741915941, 0.8154038439131608, 0.8374109686609685, 0.842761755100993, 0.7657219797538947, 0.8435179739053155, 0.8298263723233414, 0.8766818387434026, 0.821192643029795, 0.8310589283365737, 0.5628875100427768, 0.7986843335012921, 0.33954802259887, 0.8132810098662414, 0.8227681785988057, 0.848355137974672, 0.8294692654452136, 0.5172701890436444, 0.8904235593903296, 0.8516398335963554]}, {\"categories\": [\"0\", \"1\", \"2\", \"3\", \"4\", \"5\", \"6\", \"7\", \"8\", \"9\", \"10\", \"11\", \"12\", \"13\", \"14\", \"15\", \"16\", \"17\", \"18\", \"19\", \"20\", \"21\", \"22\", \"23\", \"24\", \"25\", \"26\", \"27\", \"28\", \"29\", \"30\", \"32\", \"33\"], \"mode\": \"lines\", \"name\": \"precision_score_macro_max\", \"stepped\": true, \"type\": \"scatter\", \"data\": [0.7889041743265773, 0.8086642059265495, 0.8235876106892895, 0.8239880952380952, 0.8239880952380952, 0.8239880952380952, 0.8239880952380952, 0.8239880952380952, 0.8239880952380952, 0.8596358667991796, 0.8596358667991796, 0.8617367867268243, 0.8617367867268243, 0.8617367867268243, 0.8617367867268243, 0.8617367867268243, 0.8617367867268243, 0.8617367867268243, 0.8617367867268243, 0.8617367867268243, 0.8766818387434026, 0.8766818387434026, 0.8766818387434026, 0.8766818387434026, 0.8766818387434026, 0.8766818387434026, 0.8766818387434026, 0.8766818387434026, 0.8766818387434026, 0.8766818387434026, 0.8766818387434026, 0.8904235593903296, 0.8904235593903296]}], \"recall_score_macro\": [{\"categories\": [\"0\", \"1\", \"2\", \"3\", \"4\", \"5\", \"6\", \"7\", \"8\", \"9\", \"10\", \"11\", \"12\", \"13\", \"14\", \"15\", \"16\", \"17\", \"18\", \"19\", \"20\", \"21\", \"22\", \"23\", \"24\", \"25\", \"26\", \"27\", \"28\", \"29\", \"30\", \"32\", \"33\"], \"mode\": \"markers\", \"name\": \"recall_score_macro\", \"stepped\": false, \"type\": \"scatter\", \"data\": [0.7760209025470652, 0.8060125968992248, 0.8172155315614618, 0.7963226744186047, 0.8070840254706534, 0.620344684385382, 0.8031679125138428, 0.7602512458471761, 0.6379761904761905, 0.8123214285714285, 0.7494601328903654, 0.8163946566998893, 0.7913946566998893, 0.7578107696566999, 0.7505869324473975, 0.6851785714285714, 0.802674418604651, 0.6495196566998892, 0.8001744186046512, 0.8043410852713178, 0.8070535714285715, 0.7915012458471761, 0.7847577519379845, 0.5513870431893688, 0.7420625692137319, 0.5, 0.8002810077519381, 0.7721982281284607, 0.8268369324473976, 0.7948345791805094, 0.5987749169435216, 0.843095238095238, 0.8288946566998894]}, {\"categories\": [\"0\", \"1\", \"2\", \"3\", \"4\", \"5\", \"6\", \"7\", \"8\", \"9\", \"10\", \"11\", \"12\", \"13\", \"14\", \"15\", \"16\", \"17\", \"18\", \"19\", \"20\", \"21\", \"22\", \"23\", \"24\", \"25\", \"26\", \"27\", \"28\", \"29\", \"30\", \"32\", \"33\"], \"mode\": \"lines\", \"name\": \"recall_score_macro_max\", \"stepped\": true, \"type\": \"scatter\", \"data\": [0.7760209025470652, 0.8060125968992248, 0.8172155315614618, 0.8172155315614618, 0.8172155315614618, 0.8172155315614618, 0.8172155315614618, 0.8172155315614618, 0.8172155315614618, 0.8172155315614618, 0.8172155315614618, 0.8172155315614618, 0.8172155315614618, 0.8172155315614618, 0.8172155315614618, 0.8172155315614618, 0.8172155315614618, 0.8172155315614618, 0.8172155315614618, 0.8172155315614618, 0.8172155315614618, 0.8172155315614618, 0.8172155315614618, 0.8172155315614618, 0.8172155315614618, 0.8172155315614618, 0.8172155315614618, 0.8172155315614618, 0.8268369324473976, 0.8268369324473976, 0.8268369324473976, 0.843095238095238, 0.843095238095238]}], \"AUC_weighted\": [{\"categories\": [\"0\", \"1\", \"2\", \"3\", \"4\", \"5\", \"6\", \"7\", \"8\", \"9\", \"10\", \"11\", \"12\", \"13\", \"14\", \"15\", \"16\", \"17\", \"18\", \"19\", \"20\", \"21\", \"22\", \"23\", \"24\", \"25\", \"26\", \"27\", \"28\", \"29\", \"30\", \"32\", \"33\"], \"mode\": \"markers\", \"name\": \"AUC_weighted\", \"stepped\": false, \"type\": \"scatter\", \"data\": [0.8811331210778885, 0.8929591177556293, 0.90218646179402, 0.8906499400147656, 0.895889650239941, 0.7394446982281285, 0.9103841131413806, 0.8592381875230715, 0.8303234588409006, 0.9130856866002215, 0.8967023348098928, 0.9036350129198965, 0.8970337993724622, 0.8853673288113695, 0.8762109980620156, 0.8896257613510521, 0.8947563907345885, 0.852764742524917, 0.8802835455887781, 0.8876433877814691, 0.8921992894056847, 0.8954322051495017, 0.8726896686969361, 0.47590148578811375, 0.8956950212255445, 0.47659814507198234, 0.875499446290144, 0.8821855850867479, 0.8975757198228129, 0.8956600682908821, 0.6050394518272425, 0.9167643964562571, 0.9135163805832409]}, {\"categories\": [\"0\", \"1\", \"2\", \"3\", \"4\", \"5\", \"6\", \"7\", \"8\", \"9\", \"10\", \"11\", \"12\", \"13\", \"14\", \"15\", \"16\", \"17\", \"18\", \"19\", \"20\", \"21\", \"22\", \"23\", \"24\", \"25\", \"26\", \"27\", \"28\", \"29\", \"30\", \"32\", \"33\"], \"mode\": \"lines\", \"name\": \"AUC_weighted_max\", \"stepped\": true, \"type\": \"scatter\", \"data\": [0.8811331210778885, 0.8929591177556293, 0.90218646179402, 0.90218646179402, 0.90218646179402, 0.90218646179402, 0.9103841131413806, 0.9103841131413806, 0.9103841131413806, 0.9130856866002215, 0.9130856866002215, 0.9130856866002215, 0.9130856866002215, 0.9130856866002215, 0.9130856866002215, 0.9130856866002215, 0.9130856866002215, 0.9130856866002215, 0.9130856866002215, 0.9130856866002215, 0.9130856866002215, 0.9130856866002215, 0.9130856866002215, 0.9130856866002215, 0.9130856866002215, 0.9130856866002215, 0.9130856866002215, 0.9130856866002215, 0.9130856866002215, 0.9130856866002215, 0.9130856866002215, 0.9167643964562571, 0.9167643964562571]}], \"average_precision_score_macro\": [{\"categories\": [\"0\", \"1\", \"2\", \"3\", \"4\", \"5\", \"6\", \"7\", \"8\", \"9\", \"10\", \"11\", \"12\", \"13\", \"14\", \"15\", \"16\", \"17\", \"18\", \"19\", \"20\", \"21\", \"22\", \"23\", \"24\", \"25\", \"26\", \"27\", \"28\", \"29\", \"30\", \"32\", \"33\"], \"mode\": \"markers\", \"name\": \"average_precision_score_macro\", \"stepped\": false, \"type\": \"scatter\", \"data\": [0.8655792376041671, 0.8826936933050062, 0.8982781654087203, 0.8787770138575313, 0.8818788396006372, 0.7184634262666745, 0.9013297704005552, 0.8329476717741734, 0.799425832504898, 0.9028396659654627, 0.8878516927812372, 0.8905642135737197, 0.8900265527058042, 0.8349810331652406, 0.8711824666843807, 0.8784589484531675, 0.8856947230443731, 0.8349211124106791, 0.8619592063912815, 0.8756968477195303, 0.8830207056926082, 0.8841759266110877, 0.8631103720296313, 0.5487324201695346, 0.8853348537159504, 0.49221126575056806, 0.8547036396738882, 0.8728348209634416, 0.8758820710579729, 0.8890027658370825, 0.5858706721329535, 0.9038748913666353, 0.8989140671275561]}, {\"categories\": [\"0\", \"1\", \"2\", \"3\", \"4\", \"5\", \"6\", \"7\", \"8\", \"9\", \"10\", \"11\", \"12\", \"13\", \"14\", \"15\", \"16\", \"17\", \"18\", \"19\", \"20\", \"21\", \"22\", \"23\", \"24\", \"25\", \"26\", \"27\", \"28\", \"29\", \"30\", \"32\", \"33\"], \"mode\": \"lines\", \"name\": \"average_precision_score_macro_max\", \"stepped\": true, \"type\": \"scatter\", \"data\": [0.8655792376041671, 0.8826936933050062, 0.8982781654087203, 0.8982781654087203, 0.8982781654087203, 0.8982781654087203, 0.9013297704005552, 0.9013297704005552, 0.9013297704005552, 0.9028396659654627, 0.9028396659654627, 0.9028396659654627, 0.9028396659654627, 0.9028396659654627, 0.9028396659654627, 0.9028396659654627, 0.9028396659654627, 0.9028396659654627, 0.9028396659654627, 0.9028396659654627, 0.9028396659654627, 0.9028396659654627, 0.9028396659654627, 0.9028396659654627, 0.9028396659654627, 0.9028396659654627, 0.9028396659654627, 0.9028396659654627, 0.9028396659654627, 0.9028396659654627, 0.9028396659654627, 0.9038748913666353, 0.9038748913666353]}], \"accuracy\": [{\"categories\": [\"0\", \"1\", \"2\", \"3\", \"4\", \"5\", \"6\", \"7\", \"8\", \"9\", \"10\", \"11\", \"12\", \"13\", \"14\", \"15\", \"16\", \"17\", \"18\", \"19\", \"20\", \"21\", \"22\", \"23\", \"24\", \"25\", \"26\", \"27\", \"28\", \"29\", \"30\", \"32\", \"33\"], \"mode\": \"markers\", \"name\": \"accuracy\", \"stepped\": false, \"type\": \"scatter\", \"data\": [0.8059887005649717, 0.8259322033898304, 0.8427683615819209, 0.8361016949152542, 0.8259322033898305, 0.7057627118644068, 0.8327683615819209, 0.8093785310734465, 0.736045197740113, 0.8528813559322034, 0.8161581920903955, 0.8562146892655367, 0.8461581920903954, 0.8027118644067797, 0.806271186440678, 0.7828248587570622, 0.8462146892655367, 0.7525988700564972, 0.8427118644067797, 0.8329943502824859, 0.8562146892655367, 0.8327118644067797, 0.8329378531073447, 0.6488700564971752, 0.8025423728813559, 0.67909604519774, 0.8260451977401131, 0.8194915254237287, 0.8562146892655367, 0.836045197740113, 0.5878531073446327, 0.8763276836158193, 0.8562711864406779]}, {\"categories\": [\"0\", \"1\", \"2\", \"3\", \"4\", \"5\", \"6\", \"7\", \"8\", \"9\", \"10\", \"11\", \"12\", \"13\", \"14\", \"15\", \"16\", \"17\", \"18\", \"19\", \"20\", \"21\", \"22\", \"23\", \"24\", \"25\", \"26\", \"27\", \"28\", \"29\", \"30\", \"32\", \"33\"], \"mode\": \"lines\", \"name\": \"accuracy_max\", \"stepped\": true, \"type\": \"scatter\", \"data\": [0.8059887005649717, 0.8259322033898304, 0.8427683615819209, 0.8427683615819209, 0.8427683615819209, 0.8427683615819209, 0.8427683615819209, 0.8427683615819209, 0.8427683615819209, 0.8528813559322034, 0.8528813559322034, 0.8562146892655367, 0.8562146892655367, 0.8562146892655367, 0.8562146892655367, 0.8562146892655367, 0.8562146892655367, 0.8562146892655367, 0.8562146892655367, 0.8562146892655367, 0.8562146892655367, 0.8562146892655367, 0.8562146892655367, 0.8562146892655367, 0.8562146892655367, 0.8562146892655367, 0.8562146892655367, 0.8562146892655367, 0.8562146892655367, 0.8562146892655367, 0.8562146892655367, 0.8763276836158193, 0.8763276836158193]}], \"precision_score_weighted\": [{\"categories\": [\"0\", \"1\", \"2\", \"3\", \"4\", \"5\", \"6\", \"7\", \"8\", \"9\", \"10\", \"11\", \"12\", \"13\", \"14\", \"15\", \"16\", \"17\", \"18\", \"19\", \"20\", \"21\", \"22\", \"23\", \"24\", \"25\", \"26\", \"27\", \"28\", \"29\", \"30\", \"32\", \"33\"], \"mode\": \"markers\", \"name\": \"precision_score_weighted\", \"stepped\": false, \"type\": \"scatter\", \"data\": [0.8237683758533973, 0.8403871377947292, 0.8525423000382901, 0.8448146354587033, 0.8413004804511373, 0.7169190649034272, 0.8458728095959952, 0.8196810460480322, 0.7792163027878148, 0.8711487172132604, 0.8351820421085817, 0.8689567380481694, 0.8587178168306817, 0.8226124253630431, 0.8293345908905442, 0.8195201764128317, 0.8620865093197884, 0.7783455005857939, 0.8602889885348265, 0.8531774663897151, 0.8720197311411557, 0.842401668742981, 0.8400812004049222, 0.6227458112435181, 0.8149716072122788, 0.4689005075169971, 0.8476685112088156, 0.8401074848592357, 0.8708920744107764, 0.8470280095652083, 0.5877136369203235, 0.8950471537693939, 0.8720004556975816]}, {\"categories\": [\"0\", \"1\", \"2\", \"3\", \"4\", \"5\", \"6\", \"7\", \"8\", \"9\", \"10\", \"11\", \"12\", \"13\", \"14\", \"15\", \"16\", \"17\", \"18\", \"19\", \"20\", \"21\", \"22\", \"23\", \"24\", \"25\", \"26\", \"27\", \"28\", \"29\", \"30\", \"32\", \"33\"], \"mode\": \"lines\", \"name\": \"precision_score_weighted_max\", \"stepped\": true, \"type\": \"scatter\", \"data\": [0.8237683758533973, 0.8403871377947292, 0.8525423000382901, 0.8525423000382901, 0.8525423000382901, 0.8525423000382901, 0.8525423000382901, 0.8525423000382901, 0.8525423000382901, 0.8711487172132604, 0.8711487172132604, 0.8711487172132604, 0.8711487172132604, 0.8711487172132604, 0.8711487172132604, 0.8711487172132604, 0.8711487172132604, 0.8711487172132604, 0.8711487172132604, 0.8711487172132604, 0.8720197311411557, 0.8720197311411557, 0.8720197311411557, 0.8720197311411557, 0.8720197311411557, 0.8720197311411557, 0.8720197311411557, 0.8720197311411557, 0.8720197311411557, 0.8720197311411557, 0.8720197311411557, 0.8950471537693939, 0.8950471537693939]}], \"AUC_macro\": [{\"categories\": [\"0\", \"1\", \"2\", \"3\", \"4\", \"5\", \"6\", \"7\", \"8\", \"9\", \"10\", \"11\", \"12\", \"13\", \"14\", \"15\", \"16\", \"17\", \"18\", \"19\", \"20\", \"21\", \"22\", \"23\", \"24\", \"25\", \"26\", \"27\", \"28\", \"29\", \"30\", \"32\", \"33\"], \"mode\": \"markers\", \"name\": \"AUC_macro\", \"stepped\": false, \"type\": \"scatter\", \"data\": [0.8811331210778885, 0.8929591177556295, 0.90218646179402, 0.8906499400147656, 0.895889650239941, 0.7394446982281285, 0.9103841131413806, 0.8592381875230715, 0.8303234588409006, 0.9130856866002215, 0.8967023348098928, 0.9036350129198965, 0.8970337993724622, 0.8853673288113694, 0.8762109980620154, 0.8896257613510521, 0.8947563907345885, 0.852764742524917, 0.8802835455887781, 0.8876433877814691, 0.8921992894056847, 0.8954322051495017, 0.8726896686969361, 0.47590148578811375, 0.8956950212255445, 0.47659814507198234, 0.875499446290144, 0.8821855850867479, 0.8975757198228129, 0.8956600682908823, 0.6050394518272425, 0.9167643964562571, 0.9135163805832411]}, {\"categories\": [\"0\", \"1\", \"2\", \"3\", \"4\", \"5\", \"6\", \"7\", \"8\", \"9\", \"10\", \"11\", \"12\", \"13\", \"14\", \"15\", \"16\", \"17\", \"18\", \"19\", \"20\", \"21\", \"22\", \"23\", \"24\", \"25\", \"26\", \"27\", \"28\", \"29\", \"30\", \"32\", \"33\"], \"mode\": \"lines\", \"name\": \"AUC_macro_max\", \"stepped\": true, \"type\": \"scatter\", \"data\": [0.8811331210778885, 0.8929591177556295, 0.90218646179402, 0.90218646179402, 0.90218646179402, 0.90218646179402, 0.9103841131413806, 0.9103841131413806, 0.9103841131413806, 0.9130856866002215, 0.9130856866002215, 0.9130856866002215, 0.9130856866002215, 0.9130856866002215, 0.9130856866002215, 0.9130856866002215, 0.9130856866002215, 0.9130856866002215, 0.9130856866002215, 0.9130856866002215, 0.9130856866002215, 0.9130856866002215, 0.9130856866002215, 0.9130856866002215, 0.9130856866002215, 0.9130856866002215, 0.9130856866002215, 0.9130856866002215, 0.9130856866002215, 0.9130856866002215, 0.9130856866002215, 0.9167643964562571, 0.9167643964562571]}], \"matthews_correlation\": [{\"categories\": [\"0\", \"1\", \"2\", \"3\", \"4\", \"5\", \"6\", \"7\", \"8\", \"9\", \"10\", \"11\", \"12\", \"13\", \"14\", \"15\", \"16\", \"17\", \"18\", \"19\", \"20\", \"21\", \"22\", \"23\", \"24\", \"25\", \"26\", \"27\", \"28\", \"29\", \"30\", \"32\", \"33\"], \"mode\": \"markers\", \"name\": \"matthews_correlation\", \"stepped\": false, \"type\": \"scatter\", \"data\": [0.5628617041183437, 0.6132552509330647, 0.6398237998049584, 0.6190131389369352, 0.6084456972220758, 0.284976691598912, 0.618067968088611, 0.5428697166604373, 0.37006932289245953, 0.6662193330546329, 0.5731686693141919, 0.6747423123577063, 0.6459250471454603, 0.551473312050151, 0.5585704136246321, 0.4971790607440004, 0.6419196526596067, 0.3938411430054799, 0.6368962197433861, 0.6311991764150848, 0.6774512179159837, 0.6109833255302364, 0.6133895801260966, 0.11262023552864224, 0.5366089874596112, 0.0, 0.6107582541558981, 0.5893468943388152, 0.6728840035883199, 0.6220681624763621, 0.20153615762709362, 0.7292901226073087, 0.6774997608128743]}, {\"categories\": [\"0\", \"1\", \"2\", \"3\", \"4\", \"5\", \"6\", \"7\", \"8\", \"9\", \"10\", \"11\", \"12\", \"13\", \"14\", \"15\", \"16\", \"17\", \"18\", \"19\", \"20\", \"21\", \"22\", \"23\", \"24\", \"25\", \"26\", \"27\", \"28\", \"29\", \"30\", \"32\", \"33\"], \"mode\": \"lines\", \"name\": \"matthews_correlation_max\", \"stepped\": true, \"type\": \"scatter\", \"data\": [0.5628617041183437, 0.6132552509330647, 0.6398237998049584, 0.6398237998049584, 0.6398237998049584, 0.6398237998049584, 0.6398237998049584, 0.6398237998049584, 0.6398237998049584, 0.6662193330546329, 0.6662193330546329, 0.6747423123577063, 0.6747423123577063, 0.6747423123577063, 0.6747423123577063, 0.6747423123577063, 0.6747423123577063, 0.6747423123577063, 0.6747423123577063, 0.6747423123577063, 0.6774512179159837, 0.6774512179159837, 0.6774512179159837, 0.6774512179159837, 0.6774512179159837, 0.6774512179159837, 0.6774512179159837, 0.6774512179159837, 0.6774512179159837, 0.6774512179159837, 0.6774512179159837, 0.7292901226073087, 0.7292901226073087]}], \"average_precision_score_micro\": [{\"categories\": [\"0\", \"1\", \"2\", \"3\", \"4\", \"5\", \"6\", \"7\", \"8\", \"9\", \"10\", \"11\", \"12\", \"13\", \"14\", \"15\", \"16\", \"17\", \"18\", \"19\", \"20\", \"21\", \"22\", \"23\", \"24\", \"25\", \"26\", \"27\", \"28\", \"29\", \"30\", \"32\", \"33\"], \"mode\": \"markers\", \"name\": \"average_precision_score_micro\", \"stepped\": false, \"type\": \"scatter\", \"data\": [0.887958292631032, 0.9018582931163117, 0.9159057753365947, 0.8987998379758008, 0.8969305948629691, 0.7600378029805086, 0.9165840118574244, 0.8723071880091318, 0.8377483843872803, 0.917422672022302, 0.9000157462971572, 0.91048872859167, 0.9031888978230471, 0.8717751211308231, 0.8842320043929188, 0.873901049972404, 0.9044640270740991, 0.8629420368696422, 0.8872160781039942, 0.893386848713541, 0.8964785811738555, 0.8984293833786829, 0.8810432695096168, 0.6286062910081561, 0.9035617646088395, 0.6252838836148493, 0.8865910076480198, 0.8929769415052963, 0.9022247166765285, 0.8975926209752959, 0.6154571849173351, 0.9185304991294089, 0.9097088997918827]}, {\"categories\": [\"0\", \"1\", \"2\", \"3\", \"4\", \"5\", \"6\", \"7\", \"8\", \"9\", \"10\", \"11\", \"12\", \"13\", \"14\", \"15\", \"16\", \"17\", \"18\", \"19\", \"20\", \"21\", \"22\", \"23\", \"24\", \"25\", \"26\", \"27\", \"28\", \"29\", \"30\", \"32\", \"33\"], \"mode\": \"lines\", \"name\": \"average_precision_score_micro_max\", \"stepped\": true, \"type\": \"scatter\", \"data\": [0.887958292631032, 0.9018582931163117, 0.9159057753365947, 0.9159057753365947, 0.9159057753365947, 0.9159057753365947, 0.9165840118574244, 0.9165840118574244, 0.9165840118574244, 0.917422672022302, 0.917422672022302, 0.917422672022302, 0.917422672022302, 0.917422672022302, 0.917422672022302, 0.917422672022302, 0.917422672022302, 0.917422672022302, 0.917422672022302, 0.917422672022302, 0.917422672022302, 0.917422672022302, 0.917422672022302, 0.917422672022302, 0.917422672022302, 0.917422672022302, 0.917422672022302, 0.917422672022302, 0.917422672022302, 0.917422672022302, 0.917422672022302, 0.9185304991294089, 0.9185304991294089]}], \"recall_score_micro\": [{\"categories\": [\"0\", \"1\", \"2\", \"3\", \"4\", \"5\", \"6\", \"7\", \"8\", \"9\", \"10\", \"11\", \"12\", \"13\", \"14\", \"15\", \"16\", \"17\", \"18\", \"19\", \"20\", \"21\", \"22\", \"23\", \"24\", \"25\", \"26\", \"27\", \"28\", \"29\", \"30\", \"32\", \"33\"], \"mode\": \"markers\", \"name\": \"recall_score_micro\", \"stepped\": false, \"type\": \"scatter\", \"data\": [0.8059887005649717, 0.8259322033898304, 0.8427683615819209, 0.8361016949152542, 0.8259322033898305, 0.7057627118644068, 0.8327683615819209, 0.8093785310734465, 0.736045197740113, 0.8528813559322034, 0.8161581920903955, 0.8562146892655367, 0.8461581920903954, 0.8027118644067797, 0.806271186440678, 0.7828248587570622, 0.8462146892655367, 0.7525988700564972, 0.8427118644067797, 0.8329943502824859, 0.8562146892655367, 0.8327118644067797, 0.8329378531073447, 0.6488700564971752, 0.8025423728813559, 0.67909604519774, 0.8260451977401131, 0.8194915254237287, 0.8562146892655367, 0.836045197740113, 0.5878531073446327, 0.8763276836158193, 0.8562711864406779]}, {\"categories\": [\"0\", \"1\", \"2\", \"3\", \"4\", \"5\", \"6\", \"7\", \"8\", \"9\", \"10\", \"11\", \"12\", \"13\", \"14\", \"15\", \"16\", \"17\", \"18\", \"19\", \"20\", \"21\", \"22\", \"23\", \"24\", \"25\", \"26\", \"27\", \"28\", \"29\", \"30\", \"32\", \"33\"], \"mode\": \"lines\", \"name\": \"recall_score_micro_max\", \"stepped\": true, \"type\": \"scatter\", \"data\": [0.8059887005649717, 0.8259322033898304, 0.8427683615819209, 0.8427683615819209, 0.8427683615819209, 0.8427683615819209, 0.8427683615819209, 0.8427683615819209, 0.8427683615819209, 0.8528813559322034, 0.8528813559322034, 0.8562146892655367, 0.8562146892655367, 0.8562146892655367, 0.8562146892655367, 0.8562146892655367, 0.8562146892655367, 0.8562146892655367, 0.8562146892655367, 0.8562146892655367, 0.8562146892655367, 0.8562146892655367, 0.8562146892655367, 0.8562146892655367, 0.8562146892655367, 0.8562146892655367, 0.8562146892655367, 0.8562146892655367, 0.8562146892655367, 0.8562146892655367, 0.8562146892655367, 0.8763276836158193, 0.8763276836158193]}]}, \"metricName\": null, \"primaryMetricName\": \"accuracy\", \"showLegend\": false}, \"run_metrics\": [{\"name\": \"experiment_status\", \"run_id\": \"AutoML_cb5c23e6-62cb-4b89-9435-42f75acee2df\", \"categories\": [0, 1, 2, 3, 4, 5, 6, 7, 8, 9, 10, 11, 12, 13], \"series\": [{\"data\": [\"DatasetEvaluation\", \"FeaturesGeneration\", \"DatasetFeaturization\", \"DatasetFeaturizationCompleted\", \"DatasetCrossValidationSplit\", \"ModelSelection\", \"BestRunExplainModel\", \"ModelExplanationDataSetSetup\", \"PickSurrogateModel\", \"EngineeredFeatureExplanations\", \"EngineeredFeatureExplanations\", \"RawFeaturesExplanations\", \"RawFeaturesExplanations\", \"BestRunExplainModel\"]}]}, {\"name\": \"experiment_status_description\", \"run_id\": \"AutoML_cb5c23e6-62cb-4b89-9435-42f75acee2df\", \"categories\": [0, 1, 2, 3, 4, 5, 6, 7, 8, 9, 10, 11, 12, 13], \"series\": [{\"data\": [\"Gathering dataset statistics.\", \"Generating features for the dataset.\", \"Beginning to fit featurizers and featurize the dataset.\", \"Completed fit featurizers and featurizing the dataset.\", \"Generating individually featurized CV splits.\", \"Beginning model selection.\", \"Best run model explanations started\", \"Model explanations data setup completed\", \"Choosing LightGBM as the surrogate model for explanations\", \"Computation of engineered features started\", \"Computation of engineered features completed\", \"Computation of raw features started\", \"Computation of raw features completed\", \"Best run model explanations completed\"]}]}, {\"name\": \"precision_score_weighted\", \"run_id\": \"AutoML_cb5c23e6-62cb-4b89-9435-42f75acee2df\", \"categories\": [0], \"series\": [{\"data\": [0.8950471537693939]}]}, {\"name\": \"recall_score_macro\", \"run_id\": \"AutoML_cb5c23e6-62cb-4b89-9435-42f75acee2df\", \"categories\": [0], \"series\": [{\"data\": [0.843095238095238]}]}, {\"name\": \"recall_score_weighted\", \"run_id\": \"AutoML_cb5c23e6-62cb-4b89-9435-42f75acee2df\", \"categories\": [0], \"series\": [{\"data\": [0.8763276836158193]}]}, {\"name\": \"log_loss\", \"run_id\": \"AutoML_cb5c23e6-62cb-4b89-9435-42f75acee2df\", \"categories\": [0], \"series\": [{\"data\": [0.3832812483192415]}]}, {\"name\": \"matthews_correlation\", \"run_id\": \"AutoML_cb5c23e6-62cb-4b89-9435-42f75acee2df\", \"categories\": [0], \"series\": [{\"data\": [0.7292901226073087]}]}, {\"name\": \"AUC_weighted\", \"run_id\": \"AutoML_cb5c23e6-62cb-4b89-9435-42f75acee2df\", \"categories\": [0], \"series\": [{\"data\": [0.9167643964562571]}]}, {\"name\": \"f1_score_weighted\", \"run_id\": \"AutoML_cb5c23e6-62cb-4b89-9435-42f75acee2df\", \"categories\": [0], \"series\": [{\"data\": [0.870270678532381]}]}, {\"name\": \"AUC_macro\", \"run_id\": \"AutoML_cb5c23e6-62cb-4b89-9435-42f75acee2df\", \"categories\": [0], \"series\": [{\"data\": [0.9167643964562571]}]}, {\"name\": \"precision_score_micro\", \"run_id\": \"AutoML_cb5c23e6-62cb-4b89-9435-42f75acee2df\", \"categories\": [0], \"series\": [{\"data\": [0.8763276836158193]}]}, {\"name\": \"accuracy\", \"run_id\": \"AutoML_cb5c23e6-62cb-4b89-9435-42f75acee2df\", \"categories\": [0], \"series\": [{\"data\": [0.8763276836158193]}]}, {\"name\": \"weighted_accuracy\", \"run_id\": \"AutoML_cb5c23e6-62cb-4b89-9435-42f75acee2df\", \"categories\": [0], \"series\": [{\"data\": [0.8986147612977045]}]}, {\"name\": \"average_precision_score_weighted\", \"run_id\": \"AutoML_cb5c23e6-62cb-4b89-9435-42f75acee2df\", \"categories\": [0], \"series\": [{\"data\": [0.9272554769954265]}]}, {\"name\": \"average_precision_score_macro\", \"run_id\": \"AutoML_cb5c23e6-62cb-4b89-9435-42f75acee2df\", \"categories\": [0], \"series\": [{\"data\": [0.9038748913666353]}]}, {\"name\": \"average_precision_score_micro\", \"run_id\": \"AutoML_cb5c23e6-62cb-4b89-9435-42f75acee2df\", \"categories\": [0], \"series\": [{\"data\": [0.9185304991294089]}]}, {\"name\": \"balanced_accuracy\", \"run_id\": \"AutoML_cb5c23e6-62cb-4b89-9435-42f75acee2df\", \"categories\": [0], \"series\": [{\"data\": [0.843095238095238]}]}, {\"name\": \"f1_score_macro\", \"run_id\": \"AutoML_cb5c23e6-62cb-4b89-9435-42f75acee2df\", \"categories\": [0], \"series\": [{\"data\": [0.8490680142814344]}]}, {\"name\": \"f1_score_micro\", \"run_id\": \"AutoML_cb5c23e6-62cb-4b89-9435-42f75acee2df\", \"categories\": [0], \"series\": [{\"data\": [0.8763276836158193]}]}, {\"name\": \"norm_macro_recall\", \"run_id\": \"AutoML_cb5c23e6-62cb-4b89-9435-42f75acee2df\", \"categories\": [0], \"series\": [{\"data\": [0.6861904761904762]}]}, {\"name\": \"AUC_micro\", \"run_id\": \"AutoML_cb5c23e6-62cb-4b89-9435-42f75acee2df\", \"categories\": [0], \"series\": [{\"data\": [0.9167507580835649]}]}, {\"name\": \"precision_score_macro\", \"run_id\": \"AutoML_cb5c23e6-62cb-4b89-9435-42f75acee2df\", \"categories\": [0], \"series\": [{\"data\": [0.8904235593903296]}]}, {\"name\": \"recall_score_micro\", \"run_id\": \"AutoML_cb5c23e6-62cb-4b89-9435-42f75acee2df\", \"categories\": [0], \"series\": [{\"data\": [0.8763276836158193]}]}], \"run_logs\": \"\\nRun is completed.\", \"graph\": {}, \"widget_settings\": {\"childWidgetDisplay\": \"popup\", \"send_telemetry\": false, \"log_level\": \"INFO\", \"sdk_version\": \"1.20.0\"}, \"loading\": false}"
     },
     "metadata": {},
     "output_type": "display_data"
    }
   ],
   "source": [
    "# show the run details of the experiment\n",
    "from azureml.widgets import RunDetails\n",
    "RunDetails(remote_run).show()"
   ]
  },
  {
   "cell_type": "code",
   "execution_count": 9,
   "metadata": {},
   "outputs": [
    {
     "name": "stdout",
     "output_type": "stream",
     "text": [
      "\n",
      "\n",
      "****************************************************************************************************\n",
      "DATA GUARDRAILS: \n",
      "\n",
      "TYPE:         Class balancing detection\n",
      "STATUS:       PASSED\n",
      "DESCRIPTION:  Your inputs were analyzed, and all classes are balanced in your training data.\n",
      "              Learn more about imbalanced data: https://aka.ms/AutomatedMLImbalancedData\n",
      "\n",
      "****************************************************************************************************\n",
      "\n",
      "TYPE:         Missing feature values imputation\n",
      "STATUS:       PASSED\n",
      "DESCRIPTION:  No feature missing values were detected in the training data.\n",
      "              Learn more about missing value imputation: https://aka.ms/AutomatedMLFeaturization\n",
      "\n",
      "****************************************************************************************************\n",
      "\n",
      "TYPE:         High cardinality feature detection\n",
      "STATUS:       PASSED\n",
      "DESCRIPTION:  Your inputs were analyzed, and no high cardinality features were detected.\n",
      "              Learn more about high cardinality feature handling: https://aka.ms/AutomatedMLFeaturization\n",
      "\n",
      "****************************************************************************************************\n",
      "\n",
      "****************************************************************************************************\n",
      "ITERATION: The iteration being evaluated.\n",
      "PIPELINE: A summary description of the pipeline being evaluated.\n",
      "DURATION: Time taken for the current iteration.\n",
      "METRIC: The result of computing score on the fitted pipeline.\n",
      "BEST: The best observed score thus far.\n",
      "****************************************************************************************************\n",
      "\n",
      " ITERATION   PIPELINE                                       DURATION      METRIC      BEST\n",
      "         0   MaxAbsScaler LightGBM                          0:00:50       0.8060    0.8060\n",
      "         1   MaxAbsScaler XGBoostClassifier                 0:00:50       0.8259    0.8259\n",
      "         2   MinMaxScaler RandomForest                      0:00:47       0.8428    0.8428\n",
      "         3   MinMaxScaler RandomForest                      0:00:50       0.8361    0.8428\n",
      "         4   MinMaxScaler RandomForest                      0:02:06       0.8259    0.8428\n",
      "         5   MinMaxScaler SVM                               0:00:43       0.7058    0.8428\n",
      "         6   MaxAbsScaler GradientBoosting                  0:00:51       0.8328    0.8428\n",
      "         7   SparseNormalizer XGBoostClassifier             0:00:46       0.8094    0.8428\n",
      "         8   SparseNormalizer LightGBM                      0:00:48       0.7360    0.8428\n",
      "         9   StandardScalerWrapper RandomForest             0:00:49       0.8529    0.8529\n",
      "        10   MinMaxScaler LightGBM                          0:00:49       0.8162    0.8529\n",
      "        11   RobustScaler ExtremeRandomTrees                0:00:45       0.8562    0.8562\n",
      "        12   RobustScaler ExtremeRandomTrees                0:00:51       0.8462    0.8562\n",
      "        13   MaxAbsScaler LightGBM                          0:00:55       0.8027    0.8562\n",
      "        14   SparseNormalizer GradientBoosting              0:00:46       0.8063    0.8562\n",
      "        15   RobustScaler LightGBM                          0:00:40       0.7828    0.8562\n",
      "        16   SparseNormalizer XGBoostClassifier             0:00:50       0.8462    0.8562\n",
      "        17   StandardScalerWrapper LightGBM                 0:00:51       0.7526    0.8562\n",
      "        18   SparseNormalizer XGBoostClassifier             0:00:48       0.8427    0.8562\n",
      "        19   SparseNormalizer LightGBM                      0:00:43       0.8330    0.8562\n",
      "        20   MaxAbsScaler ExtremeRandomTrees                0:00:46       0.8562    0.8562\n",
      "        21   StandardScalerWrapper XGBoostClassifier        0:00:43       0.8327    0.8562\n",
      "        22   SparseNormalizer XGBoostClassifier             0:00:49       0.8329    0.8562\n",
      "        23   StandardScalerWrapper KNN                      0:00:46       0.6489    0.8562\n",
      "        24   MaxAbsScaler LightGBM                          0:00:48       0.8025    0.8562\n",
      "        25   SparseNormalizer ExtremeRandomTrees            0:00:57       0.6791    0.8562\n",
      "        26   StandardScalerWrapper SGD                      0:00:49       0.8260    0.8562\n",
      "        27   SparseNormalizer XGBoostClassifier             0:00:49       0.8195    0.8562\n",
      "        28   SparseNormalizer XGBoostClassifier             0:00:49       0.8562    0.8562\n",
      "        29   MinMaxScaler LightGBM                          0:00:48       0.8360    0.8562\n",
      "        30   StandardScalerWrapper ExtremeRandomTrees       0:00:43       0.5879    0.8562\n",
      "        31                                                  0:00:10          nan    0.8562\n",
      "        32    VotingEnsemble                                0:01:25       0.8763    0.8763\n",
      "        33    StackEnsemble                                 0:01:26       0.8563    0.8763\n"
     ]
    },
    {
     "data": {
      "text/plain": [
       "{'runId': 'AutoML_cb5c23e6-62cb-4b89-9435-42f75acee2df',\n",
       " 'target': 'cpu-cluster',\n",
       " 'status': 'Completed',\n",
       " 'startTimeUtc': '2021-01-28T13:17:03.952988Z',\n",
       " 'endTimeUtc': '2021-01-28T13:45:54.558645Z',\n",
       " 'properties': {'num_iterations': '1000',\n",
       "  'training_type': 'TrainFull',\n",
       "  'acquisition_function': 'EI',\n",
       "  'primary_metric': 'accuracy',\n",
       "  'train_split': '0',\n",
       "  'acquisition_parameter': '0',\n",
       "  'num_cross_validation': '5',\n",
       "  'target': 'cpu-cluster',\n",
       "  'AMLSettingsJsonString': '{\"path\":null,\"name\":\"auto-ml-heart-failure-exp\",\"subscription_id\":\"61c5c3f0-6dc7-4ed9-a7f3-c704b20e3b30\",\"resource_group\":\"aml-quickstarts-136379\",\"workspace_name\":\"quick-starts-ws-136379\",\"region\":\"southcentralus\",\"compute_target\":\"cpu-cluster\",\"spark_service\":null,\"azure_service\":\"remote\",\"many_models\":false,\"pipeline_fetch_max_batch_size\":1,\"iterations\":1000,\"primary_metric\":\"accuracy\",\"task_type\":\"classification\",\"data_script\":null,\"validation_size\":0.0,\"n_cross_validations\":5,\"y_min\":null,\"y_max\":null,\"num_classes\":null,\"featurization\":\"auto\",\"_ignore_package_version_incompatibilities\":false,\"is_timeseries\":false,\"max_cores_per_iteration\":1,\"max_concurrent_iterations\":2,\"iteration_timeout_minutes\":null,\"mem_in_mb\":null,\"enforce_time_on_windows\":false,\"experiment_timeout_minutes\":60,\"experiment_exit_score\":null,\"whitelist_models\":null,\"blacklist_algos\":[\"TensorFlowLinearClassifier\",\"TensorFlowDNN\"],\"supported_models\":[\"AveragedPerceptronClassifier\",\"RandomForest\",\"BernoulliNaiveBayes\",\"LogisticRegression\",\"LinearSVM\",\"GradientBoosting\",\"TensorFlowDNN\",\"MultinomialNaiveBayes\",\"SGD\",\"KNN\",\"DecisionTree\",\"ExtremeRandomTrees\",\"TensorFlowLinearClassifier\",\"SVM\",\"LightGBM\",\"XGBoostClassifier\"],\"auto_blacklist\":true,\"blacklist_samples_reached\":false,\"exclude_nan_labels\":true,\"verbosity\":20,\"_debug_log\":\"azureml_automl.log\",\"show_warnings\":false,\"model_explainability\":true,\"service_url\":null,\"sdk_url\":null,\"sdk_packages\":null,\"enable_onnx_compatible_models\":false,\"enable_split_onnx_featurizer_estimator_models\":false,\"vm_type\":\"STANDARD_DS12_V2\",\"telemetry_verbosity\":20,\"send_telemetry\":true,\"enable_dnn\":false,\"scenario\":\"SDK-1.13.0\",\"environment_label\":null,\"force_text_dnn\":false,\"enable_feature_sweeping\":true,\"enable_early_stopping\":true,\"early_stopping_n_iters\":10,\"metrics\":null,\"enable_ensembling\":true,\"enable_stack_ensembling\":true,\"ensemble_iterations\":15,\"enable_tf\":false,\"enable_subsampling\":null,\"subsample_seed\":null,\"enable_nimbusml\":false,\"enable_streaming\":false,\"force_streaming\":false,\"track_child_runs\":true,\"allowed_private_models\":[],\"label_column_name\":\"DEATH_EVENT\",\"weight_column_name\":null,\"cv_split_column_names\":null,\"enable_local_managed\":false,\"_local_managed_run_id\":null,\"cost_mode\":1,\"lag_length\":0,\"metric_operation\":\"maximize\",\"preprocess\":true}',\n",
       "  'DataPrepJsonString': '{\\\\\"training_data\\\\\": \\\\\"{\\\\\\\\\\\\\"blocks\\\\\\\\\\\\\": [{\\\\\\\\\\\\\"id\\\\\\\\\\\\\": \\\\\\\\\\\\\"570c673a-6fa1-4e39-a226-868d47348267\\\\\\\\\\\\\", \\\\\\\\\\\\\"type\\\\\\\\\\\\\": \\\\\\\\\\\\\"Microsoft.DPrep.GetFilesBlock\\\\\\\\\\\\\", \\\\\\\\\\\\\"arguments\\\\\\\\\\\\\": {\\\\\\\\\\\\\"isArchive\\\\\\\\\\\\\": false, \\\\\\\\\\\\\"path\\\\\\\\\\\\\": {\\\\\\\\\\\\\"target\\\\\\\\\\\\\": 4, \\\\\\\\\\\\\"resourceDetails\\\\\\\\\\\\\": [{\\\\\\\\\\\\\"path\\\\\\\\\\\\\": \\\\\\\\\\\\\"https://archive.ics.uci.edu/ml/machine-learning-databases/00519/heart_failure_clinical_records_dataset.csv\\\\\\\\\\\\\"}]}}, \\\\\\\\\\\\\"localData\\\\\\\\\\\\\": {}, \\\\\\\\\\\\\"isEnabled\\\\\\\\\\\\\": true, \\\\\\\\\\\\\"name\\\\\\\\\\\\\": null, \\\\\\\\\\\\\"annotation\\\\\\\\\\\\\": null}, {\\\\\\\\\\\\\"id\\\\\\\\\\\\\": \\\\\\\\\\\\\"367273f6-9f0e-4b2b-8cc0-f3288ec1398a\\\\\\\\\\\\\", \\\\\\\\\\\\\"type\\\\\\\\\\\\\": \\\\\\\\\\\\\"Microsoft.DPrep.ParseDelimitedBlock\\\\\\\\\\\\\", \\\\\\\\\\\\\"arguments\\\\\\\\\\\\\": {\\\\\\\\\\\\\"columnHeadersMode\\\\\\\\\\\\\": 3, \\\\\\\\\\\\\"fileEncoding\\\\\\\\\\\\\": 0, \\\\\\\\\\\\\"handleQuotedLineBreaks\\\\\\\\\\\\\": false, \\\\\\\\\\\\\"preview\\\\\\\\\\\\\": false, \\\\\\\\\\\\\"separator\\\\\\\\\\\\\": \\\\\\\\\\\\\",\\\\\\\\\\\\\", \\\\\\\\\\\\\"skipRows\\\\\\\\\\\\\": 0, \\\\\\\\\\\\\"skipRowsMode\\\\\\\\\\\\\": 0}, \\\\\\\\\\\\\"localData\\\\\\\\\\\\\": {}, \\\\\\\\\\\\\"isEnabled\\\\\\\\\\\\\": true, \\\\\\\\\\\\\"name\\\\\\\\\\\\\": null, \\\\\\\\\\\\\"annotation\\\\\\\\\\\\\": null}, {\\\\\\\\\\\\\"id\\\\\\\\\\\\\": \\\\\\\\\\\\\"c74a4159-68f5-45a1-8e4d-fd708e775636\\\\\\\\\\\\\", \\\\\\\\\\\\\"type\\\\\\\\\\\\\": \\\\\\\\\\\\\"Microsoft.DPrep.DropColumnsBlock\\\\\\\\\\\\\", \\\\\\\\\\\\\"arguments\\\\\\\\\\\\\": {\\\\\\\\\\\\\"columns\\\\\\\\\\\\\": {\\\\\\\\\\\\\"type\\\\\\\\\\\\\": 0, \\\\\\\\\\\\\"details\\\\\\\\\\\\\": {\\\\\\\\\\\\\"selectedColumns\\\\\\\\\\\\\": [\\\\\\\\\\\\\"Path\\\\\\\\\\\\\"]}}}, \\\\\\\\\\\\\"localData\\\\\\\\\\\\\": {}, \\\\\\\\\\\\\"isEnabled\\\\\\\\\\\\\": true, \\\\\\\\\\\\\"name\\\\\\\\\\\\\": null, \\\\\\\\\\\\\"annotation\\\\\\\\\\\\\": null}, {\\\\\\\\\\\\\"id\\\\\\\\\\\\\": \\\\\\\\\\\\\"1175f99a-0a60-4b5c-9818-9b8284fd1b83\\\\\\\\\\\\\", \\\\\\\\\\\\\"type\\\\\\\\\\\\\": \\\\\\\\\\\\\"Microsoft.DPrep.SetColumnTypesBlock\\\\\\\\\\\\\", \\\\\\\\\\\\\"arguments\\\\\\\\\\\\\": {\\\\\\\\\\\\\"columnConversion\\\\\\\\\\\\\": [{\\\\\\\\\\\\\"column\\\\\\\\\\\\\": {\\\\\\\\\\\\\"type\\\\\\\\\\\\\": 2, \\\\\\\\\\\\\"details\\\\\\\\\\\\\": {\\\\\\\\\\\\\"selectedColumn\\\\\\\\\\\\\": \\\\\\\\\\\\\"age\\\\\\\\\\\\\"}}, \\\\\\\\\\\\\"typeProperty\\\\\\\\\\\\\": 3}, {\\\\\\\\\\\\\"column\\\\\\\\\\\\\": {\\\\\\\\\\\\\"type\\\\\\\\\\\\\": 2, \\\\\\\\\\\\\"details\\\\\\\\\\\\\": {\\\\\\\\\\\\\"selectedColumn\\\\\\\\\\\\\": \\\\\\\\\\\\\"anaemia\\\\\\\\\\\\\"}}, \\\\\\\\\\\\\"typeProperty\\\\\\\\\\\\\": 2}, {\\\\\\\\\\\\\"column\\\\\\\\\\\\\": {\\\\\\\\\\\\\"type\\\\\\\\\\\\\": 2, \\\\\\\\\\\\\"details\\\\\\\\\\\\\": {\\\\\\\\\\\\\"selectedColumn\\\\\\\\\\\\\": \\\\\\\\\\\\\"creatinine_phosphokinase\\\\\\\\\\\\\"}}, \\\\\\\\\\\\\"typeProperty\\\\\\\\\\\\\": 2}, {\\\\\\\\\\\\\"column\\\\\\\\\\\\\": {\\\\\\\\\\\\\"type\\\\\\\\\\\\\": 2, \\\\\\\\\\\\\"details\\\\\\\\\\\\\": {\\\\\\\\\\\\\"selectedColumn\\\\\\\\\\\\\": \\\\\\\\\\\\\"diabetes\\\\\\\\\\\\\"}}, \\\\\\\\\\\\\"typeProperty\\\\\\\\\\\\\": 2}, {\\\\\\\\\\\\\"column\\\\\\\\\\\\\": {\\\\\\\\\\\\\"type\\\\\\\\\\\\\": 2, \\\\\\\\\\\\\"details\\\\\\\\\\\\\": {\\\\\\\\\\\\\"selectedColumn\\\\\\\\\\\\\": \\\\\\\\\\\\\"ejection_fraction\\\\\\\\\\\\\"}}, \\\\\\\\\\\\\"typeProperty\\\\\\\\\\\\\": 2}, {\\\\\\\\\\\\\"column\\\\\\\\\\\\\": {\\\\\\\\\\\\\"type\\\\\\\\\\\\\": 2, \\\\\\\\\\\\\"details\\\\\\\\\\\\\": {\\\\\\\\\\\\\"selectedColumn\\\\\\\\\\\\\": \\\\\\\\\\\\\"high_blood_pressure\\\\\\\\\\\\\"}}, \\\\\\\\\\\\\"typeProperty\\\\\\\\\\\\\": 2}, {\\\\\\\\\\\\\"column\\\\\\\\\\\\\": {\\\\\\\\\\\\\"type\\\\\\\\\\\\\": 2, \\\\\\\\\\\\\"details\\\\\\\\\\\\\": {\\\\\\\\\\\\\"selectedColumn\\\\\\\\\\\\\": \\\\\\\\\\\\\"platelets\\\\\\\\\\\\\"}}, \\\\\\\\\\\\\"typeProperty\\\\\\\\\\\\\": 3}, {\\\\\\\\\\\\\"column\\\\\\\\\\\\\": {\\\\\\\\\\\\\"type\\\\\\\\\\\\\": 2, \\\\\\\\\\\\\"details\\\\\\\\\\\\\": {\\\\\\\\\\\\\"selectedColumn\\\\\\\\\\\\\": \\\\\\\\\\\\\"serum_creatinine\\\\\\\\\\\\\"}}, \\\\\\\\\\\\\"typeProperty\\\\\\\\\\\\\": 3}, {\\\\\\\\\\\\\"column\\\\\\\\\\\\\": {\\\\\\\\\\\\\"type\\\\\\\\\\\\\": 2, \\\\\\\\\\\\\"details\\\\\\\\\\\\\": {\\\\\\\\\\\\\"selectedColumn\\\\\\\\\\\\\": \\\\\\\\\\\\\"serum_sodium\\\\\\\\\\\\\"}}, \\\\\\\\\\\\\"typeProperty\\\\\\\\\\\\\": 2}, {\\\\\\\\\\\\\"column\\\\\\\\\\\\\": {\\\\\\\\\\\\\"type\\\\\\\\\\\\\": 2, \\\\\\\\\\\\\"details\\\\\\\\\\\\\": {\\\\\\\\\\\\\"selectedColumn\\\\\\\\\\\\\": \\\\\\\\\\\\\"sex\\\\\\\\\\\\\"}}, \\\\\\\\\\\\\"typeProperty\\\\\\\\\\\\\": 2}, {\\\\\\\\\\\\\"column\\\\\\\\\\\\\": {\\\\\\\\\\\\\"type\\\\\\\\\\\\\": 2, \\\\\\\\\\\\\"details\\\\\\\\\\\\\": {\\\\\\\\\\\\\"selectedColumn\\\\\\\\\\\\\": \\\\\\\\\\\\\"smoking\\\\\\\\\\\\\"}}, \\\\\\\\\\\\\"typeProperty\\\\\\\\\\\\\": 2}, {\\\\\\\\\\\\\"column\\\\\\\\\\\\\": {\\\\\\\\\\\\\"type\\\\\\\\\\\\\": 2, \\\\\\\\\\\\\"details\\\\\\\\\\\\\": {\\\\\\\\\\\\\"selectedColumn\\\\\\\\\\\\\": \\\\\\\\\\\\\"time\\\\\\\\\\\\\"}}, \\\\\\\\\\\\\"typeProperty\\\\\\\\\\\\\": 2}, {\\\\\\\\\\\\\"column\\\\\\\\\\\\\": {\\\\\\\\\\\\\"type\\\\\\\\\\\\\": 2, \\\\\\\\\\\\\"details\\\\\\\\\\\\\": {\\\\\\\\\\\\\"selectedColumn\\\\\\\\\\\\\": \\\\\\\\\\\\\"DEATH_EVENT\\\\\\\\\\\\\"}}, \\\\\\\\\\\\\"typeProperty\\\\\\\\\\\\\": 2}]}, \\\\\\\\\\\\\"localData\\\\\\\\\\\\\": {}, \\\\\\\\\\\\\"isEnabled\\\\\\\\\\\\\": true, \\\\\\\\\\\\\"name\\\\\\\\\\\\\": null, \\\\\\\\\\\\\"annotation\\\\\\\\\\\\\": null}], \\\\\\\\\\\\\"inspectors\\\\\\\\\\\\\": [], \\\\\\\\\\\\\"meta\\\\\\\\\\\\\": {\\\\\\\\\\\\\"savedDatasetId\\\\\\\\\\\\\": \\\\\\\\\\\\\"77003cee-3b55-48b6-8538-6a097c4fb762\\\\\\\\\\\\\", \\\\\\\\\\\\\"datasetType\\\\\\\\\\\\\": \\\\\\\\\\\\\"tabular\\\\\\\\\\\\\", \\\\\\\\\\\\\"subscriptionId\\\\\\\\\\\\\": \\\\\\\\\\\\\"61c5c3f0-6dc7-4ed9-a7f3-c704b20e3b30\\\\\\\\\\\\\", \\\\\\\\\\\\\"workspaceId\\\\\\\\\\\\\": \\\\\\\\\\\\\"6a75048b-d2b5-41f5-ac2f-34afa8e72421\\\\\\\\\\\\\", \\\\\\\\\\\\\"workspaceLocation\\\\\\\\\\\\\": \\\\\\\\\\\\\"southcentralus\\\\\\\\\\\\\"}}\\\\\", \\\\\"activities\\\\\": 0}',\n",
       "  'EnableSubsampling': None,\n",
       "  'runTemplate': 'AutoML',\n",
       "  'azureml.runsource': 'automl',\n",
       "  'display_task_type': 'classification',\n",
       "  'dependencies_versions': '{\"azureml-widgets\": \"1.20.0\", \"azureml-train\": \"1.20.0\", \"azureml-train-restclients-hyperdrive\": \"1.20.0\", \"azureml-train-core\": \"1.20.0\", \"azureml-train-automl\": \"1.20.0\", \"azureml-train-automl-runtime\": \"1.20.0\", \"azureml-train-automl-client\": \"1.20.0\", \"azureml-tensorboard\": \"1.20.0\", \"azureml-telemetry\": \"1.20.0\", \"azureml-sdk\": \"1.20.0\", \"azureml-samples\": \"0+unknown\", \"azureml-pipeline\": \"1.20.0\", \"azureml-pipeline-steps\": \"1.20.0\", \"azureml-pipeline-core\": \"1.20.0\", \"azureml-opendatasets\": \"1.20.0\", \"azureml-model-management-sdk\": \"1.0.1b6.post1\", \"azureml-mlflow\": \"1.20.0.post1\", \"azureml-interpret\": \"1.20.0\", \"azureml-explain-model\": \"1.20.0\", \"azureml-defaults\": \"1.20.0\", \"azureml-dataset-runtime\": \"1.20.0\", \"azureml-dataprep\": \"2.7.3\", \"azureml-dataprep-rslex\": \"1.5.0\", \"azureml-dataprep-native\": \"27.0.0\", \"azureml-datadrift\": \"1.20.0\", \"azureml-core\": \"1.20.0\", \"azureml-contrib-services\": \"1.20.0\", \"azureml-contrib-server\": \"1.20.0\", \"azureml-contrib-reinforcementlearning\": \"1.20.0\", \"azureml-contrib-pipeline-steps\": \"1.20.0\", \"azureml-contrib-notebook\": \"1.20.0\", \"azureml-contrib-interpret\": \"1.20.0\", \"azureml-contrib-gbdt\": \"1.20.0\", \"azureml-contrib-fairness\": \"1.20.0\", \"azureml-contrib-dataset\": \"1.20.0\", \"azureml-cli-common\": \"1.20.0\", \"azureml-automl-runtime\": \"1.20.0\", \"azureml-automl-core\": \"1.20.0\", \"azureml-accel-models\": \"1.20.0\"}',\n",
       "  '_aml_system_scenario_identification': 'Remote.Parent',\n",
       "  'ClientType': 'SDK',\n",
       "  'environment_cpu_name': 'AzureML-AutoML',\n",
       "  'environment_cpu_label': 'prod',\n",
       "  'environment_gpu_name': 'AzureML-AutoML-GPU',\n",
       "  'environment_gpu_label': 'prod',\n",
       "  'root_attribution': 'automl',\n",
       "  'attribution': 'AutoML',\n",
       "  'Orchestrator': 'AutoML',\n",
       "  'CancelUri': 'https://southcentralus.experiments.azureml.net/jasmine/v1.0/subscriptions/61c5c3f0-6dc7-4ed9-a7f3-c704b20e3b30/resourceGroups/aml-quickstarts-136379/providers/Microsoft.MachineLearningServices/workspaces/quick-starts-ws-136379/experimentids/0ef3ab45-0deb-4f14-ba1e-1f627acfd105/cancel/AutoML_cb5c23e6-62cb-4b89-9435-42f75acee2df',\n",
       "  'azureml.git.repository_uri': 'https://github.com/donjude/azureml-engineer-capstone.git',\n",
       "  'mlflow.source.git.repoURL': 'https://github.com/donjude/azureml-engineer-capstone.git',\n",
       "  'azureml.git.branch': 'main',\n",
       "  'mlflow.source.git.branch': 'main',\n",
       "  'azureml.git.commit': '7381b71a7d4cc8d6be0046849ab9f9ec666e6a18',\n",
       "  'mlflow.source.git.commit': '7381b71a7d4cc8d6be0046849ab9f9ec666e6a18',\n",
       "  'azureml.git.dirty': 'False',\n",
       "  'ClientSdkVersion': '1.20.0.post1',\n",
       "  'snapshotId': '00000000-0000-0000-0000-000000000000',\n",
       "  'SetupRunId': 'AutoML_cb5c23e6-62cb-4b89-9435-42f75acee2df_setup',\n",
       "  'SetupRunContainerId': 'dcid.AutoML_cb5c23e6-62cb-4b89-9435-42f75acee2df_setup',\n",
       "  'FeaturizationRunJsonPath': 'featurizer_container.json',\n",
       "  'FeaturizationRunId': 'AutoML_cb5c23e6-62cb-4b89-9435-42f75acee2df_featurize',\n",
       "  'ProblemInfoJsonString': '{\"dataset_num_categorical\": 0, \"is_sparse\": false, \"subsampling\": false, \"dataset_classes\": 2, \"dataset_features\": 12, \"dataset_samples\": 299, \"single_frequency_class_detected\": false}',\n",
       "  'ModelExplainRunId': 'AutoML_cb5c23e6-62cb-4b89-9435-42f75acee2df_ModelExplain'},\n",
       " 'inputDatasets': [{'dataset': {'id': '77003cee-3b55-48b6-8538-6a097c4fb762'}, 'consumptionDetails': {'type': 'RunInput', 'inputName': 'training_data', 'mechanism': 'Direct'}}],\n",
       " 'outputDatasets': [],\n",
       " 'logFiles': {},\n",
       " 'submittedBy': 'ODL_User 136379'}"
      ]
     },
     "execution_count": 9,
     "metadata": {},
     "output_type": "execute_result"
    }
   ],
   "source": [
    "# return details of the run\n",
    "remote_run.wait_for_completion(show_output=True)"
   ]
  },
  {
   "cell_type": "markdown",
   "metadata": {},
   "source": [
    "## Best Model\n",
    "\n",
    "TODO: In the cell below, get the best model from the automl experiments and display all the properties of the model.\n",
    "\n"
   ]
  },
  {
   "cell_type": "code",
   "execution_count": 11,
   "metadata": {
    "gather": {
     "logged": 1598431425670
    },
    "jupyter": {
     "outputs_hidden": false,
     "source_hidden": false
    },
    "nteract": {
     "transient": {
      "deleting": false
     }
    }
   },
   "outputs": [
    {
     "data": {
      "text/html": [
       "<table style=\"width:100%\"><tr><th>Experiment</th><th>Id</th><th>Type</th><th>Status</th><th>Details Page</th><th>Docs Page</th></tr><tr><td>auto-ml-heart-failure-exp</td><td>AutoML_cb5c23e6-62cb-4b89-9435-42f75acee2df_32</td><td>azureml.scriptrun</td><td>Completed</td><td><a href=\"https://ml.azure.com/experiments/auto-ml-heart-failure-exp/runs/AutoML_cb5c23e6-62cb-4b89-9435-42f75acee2df_32?wsid=/subscriptions/61c5c3f0-6dc7-4ed9-a7f3-c704b20e3b30/resourcegroups/aml-quickstarts-136379/workspaces/quick-starts-ws-136379\" target=\"_blank\" rel=\"noopener\">Link to Azure Machine Learning studio</a></td><td><a href=\"https://docs.microsoft.com/en-us/python/api/azureml-core/azureml.core.run.Run?view=azure-ml-py\" target=\"_blank\" rel=\"noopener\">Link to Documentation</a></td></tr></table>"
      ],
      "text/plain": [
       "Run(Experiment: auto-ml-heart-failure-exp,\n",
       "Id: AutoML_cb5c23e6-62cb-4b89-9435-42f75acee2df_32,\n",
       "Type: azureml.scriptrun,\n",
       "Status: Completed)"
      ]
     },
     "execution_count": 11,
     "metadata": {},
     "output_type": "execute_result"
    }
   ],
   "source": [
    "# get the best model\n",
    "best_run, fitted_model = remote_run.get_output()\n",
    "\n",
    "best_run"
   ]
  },
  {
   "cell_type": "code",
   "execution_count": 12,
   "metadata": {},
   "outputs": [
    {
     "data": {
      "text/plain": [
       "Pipeline(memory=None,\n",
       "         steps=[('datatransformer',\n",
       "                 DataTransformer(enable_dnn=None, enable_feature_sweeping=None,\n",
       "                                 feature_sweeping_config=None,\n",
       "                                 feature_sweeping_timeout=None,\n",
       "                                 featurization_config=None, force_text_dnn=None,\n",
       "                                 is_cross_validation=None,\n",
       "                                 is_onnx_compatible=None, logger=None,\n",
       "                                 observer=None, task=None, working_dir=None)),\n",
       "                ('prefittedsoftvotingclassifier',...\n",
       "                                                                                                        min_samples_leaf=0.035789473684210524,\n",
       "                                                                                                        min_samples_split=0.38473684210526315,\n",
       "                                                                                                        min_weight_fraction_leaf=0.0,\n",
       "                                                                                                        n_estimators=50,\n",
       "                                                                                                        n_iter_no_change=None,\n",
       "                                                                                                        presort='deprecated',\n",
       "                                                                                                        random_state=None,\n",
       "                                                                                                        subsample=1,\n",
       "                                                                                                        tol=0.0001,\n",
       "                                                                                                        validation_fraction=0.1,\n",
       "                                                                                                        verbose=0,\n",
       "                                                                                                        warm_start=False))],\n",
       "                                                                     verbose=False))],\n",
       "                                               flatten_transform=None,\n",
       "                                               weights=[0.125, 0.125, 0.125,\n",
       "                                                        0.25, 0.125, 0.125,\n",
       "                                                        0.125]))],\n",
       "         verbose=False)"
      ]
     },
     "execution_count": 12,
     "metadata": {},
     "output_type": "execute_result"
    }
   ],
   "source": [
    "# display the properties of the model\n",
    "fitted_model"
   ]
  },
  {
   "cell_type": "code",
   "execution_count": 13,
   "metadata": {},
   "outputs": [
    {
     "name": "stdout",
     "output_type": "stream",
     "text": [
      "datatransformer\n",
      "{'enable_dnn': None,\n",
      " 'enable_feature_sweeping': None,\n",
      " 'feature_sweeping_config': None,\n",
      " 'feature_sweeping_timeout': None,\n",
      " 'featurization_config': None,\n",
      " 'force_text_dnn': None,\n",
      " 'is_cross_validation': None,\n",
      " 'is_onnx_compatible': None,\n",
      " 'logger': None,\n",
      " 'observer': None,\n",
      " 'task': None,\n",
      " 'working_dir': None}\n",
      "\n",
      "prefittedsoftvotingclassifier\n",
      "{'estimators': ['28', '20', '11', '9', '16', '6', '14'],\n",
      " 'weights': [0.125, 0.125, 0.125, 0.25, 0.125, 0.125, 0.125]}\n",
      "\n",
      "28 - sparsenormalizer\n",
      "{'copy': True, 'norm': 'l1'}\n",
      "\n",
      "28 - xgboostclassifier\n",
      "{'base_score': 0.5,\n",
      " 'booster': 'gbtree',\n",
      " 'colsample_bylevel': 0.6,\n",
      " 'colsample_bynode': 1,\n",
      " 'colsample_bytree': 1,\n",
      " 'eta': 0.05,\n",
      " 'gamma': 0,\n",
      " 'learning_rate': 0.1,\n",
      " 'max_delta_step': 0,\n",
      " 'max_depth': 6,\n",
      " 'max_leaves': 0,\n",
      " 'min_child_weight': 1,\n",
      " 'missing': nan,\n",
      " 'n_estimators': 200,\n",
      " 'n_jobs': 1,\n",
      " 'nthread': None,\n",
      " 'objective': 'reg:logistic',\n",
      " 'random_state': 0,\n",
      " 'reg_alpha': 1.0416666666666667,\n",
      " 'reg_lambda': 1.9791666666666667,\n",
      " 'scale_pos_weight': 1,\n",
      " 'seed': None,\n",
      " 'silent': None,\n",
      " 'subsample': 1,\n",
      " 'tree_method': 'auto',\n",
      " 'verbose': -10,\n",
      " 'verbosity': 0}\n",
      "\n",
      "20 - maxabsscaler\n",
      "{'copy': True}\n",
      "\n",
      "20 - extratreesclassifier\n",
      "{'bootstrap': False,\n",
      " 'ccp_alpha': 0.0,\n",
      " 'class_weight': None,\n",
      " 'criterion': 'gini',\n",
      " 'max_depth': None,\n",
      " 'max_features': 0.7,\n",
      " 'max_leaf_nodes': None,\n",
      " 'max_samples': None,\n",
      " 'min_impurity_decrease': 0.0,\n",
      " 'min_impurity_split': None,\n",
      " 'min_samples_leaf': 0.01,\n",
      " 'min_samples_split': 0.33789473684210525,\n",
      " 'min_weight_fraction_leaf': 0.0,\n",
      " 'n_estimators': 400,\n",
      " 'n_jobs': 1,\n",
      " 'oob_score': False,\n",
      " 'random_state': None,\n",
      " 'verbose': 0,\n",
      " 'warm_start': False}\n",
      "\n",
      "11 - robustscaler\n",
      "{'copy': True,\n",
      " 'quantile_range': [25, 75],\n",
      " 'with_centering': True,\n",
      " 'with_scaling': False}\n",
      "\n",
      "11 - extratreesclassifier\n",
      "{'bootstrap': False,\n",
      " 'ccp_alpha': 0.0,\n",
      " 'class_weight': None,\n",
      " 'criterion': 'entropy',\n",
      " 'max_depth': None,\n",
      " 'max_features': 0.8,\n",
      " 'max_leaf_nodes': None,\n",
      " 'max_samples': None,\n",
      " 'min_impurity_decrease': 0.0,\n",
      " 'min_impurity_split': None,\n",
      " 'min_samples_leaf': 0.01,\n",
      " 'min_samples_split': 0.2442105263157895,\n",
      " 'min_weight_fraction_leaf': 0.0,\n",
      " 'n_estimators': 100,\n",
      " 'n_jobs': 1,\n",
      " 'oob_score': False,\n",
      " 'random_state': None,\n",
      " 'verbose': 0,\n",
      " 'warm_start': False}\n",
      "\n",
      "9 - standardscalerwrapper\n",
      "{'class_name': 'StandardScaler',\n",
      " 'copy': True,\n",
      " 'module_name': 'sklearn.preprocessing._data',\n",
      " 'with_mean': False,\n",
      " 'with_std': True}\n",
      "\n",
      "9 - randomforestclassifier\n",
      "{'bootstrap': False,\n",
      " 'ccp_alpha': 0.0,\n",
      " 'class_weight': None,\n",
      " 'criterion': 'entropy',\n",
      " 'max_depth': None,\n",
      " 'max_features': 0.2,\n",
      " 'max_leaf_nodes': None,\n",
      " 'max_samples': None,\n",
      " 'min_impurity_decrease': 0.0,\n",
      " 'min_impurity_split': None,\n",
      " 'min_samples_leaf': 0.01,\n",
      " 'min_samples_split': 0.10368421052631578,\n",
      " 'min_weight_fraction_leaf': 0.0,\n",
      " 'n_estimators': 25,\n",
      " 'n_jobs': 1,\n",
      " 'oob_score': False,\n",
      " 'random_state': None,\n",
      " 'verbose': 0,\n",
      " 'warm_start': False}\n",
      "\n",
      "16 - sparsenormalizer\n",
      "{'copy': True, 'norm': 'max'}\n",
      "\n",
      "16 - xgboostclassifier\n",
      "{'base_score': 0.5,\n",
      " 'booster': 'gbtree',\n",
      " 'colsample_bylevel': 1,\n",
      " 'colsample_bynode': 1,\n",
      " 'colsample_bytree': 0.7,\n",
      " 'eta': 0.3,\n",
      " 'gamma': 0,\n",
      " 'learning_rate': 0.1,\n",
      " 'max_delta_step': 0,\n",
      " 'max_depth': 6,\n",
      " 'max_leaves': 0,\n",
      " 'min_child_weight': 1,\n",
      " 'missing': nan,\n",
      " 'n_estimators': 400,\n",
      " 'n_jobs': 1,\n",
      " 'nthread': None,\n",
      " 'objective': 'reg:logistic',\n",
      " 'random_state': 0,\n",
      " 'reg_alpha': 2.3958333333333335,\n",
      " 'reg_lambda': 1.4583333333333335,\n",
      " 'scale_pos_weight': 1,\n",
      " 'seed': None,\n",
      " 'silent': None,\n",
      " 'subsample': 1,\n",
      " 'tree_method': 'auto',\n",
      " 'verbose': -10,\n",
      " 'verbosity': 0}\n",
      "\n",
      "6 - maxabsscaler\n",
      "{'copy': True}\n",
      "\n",
      "6 - gradientboostingclassifier\n",
      "{'ccp_alpha': 0.0,\n",
      " 'criterion': 'friedman_mse',\n",
      " 'init': None,\n",
      " 'learning_rate': 0.046415888336127774,\n",
      " 'loss': 'deviance',\n",
      " 'max_depth': 4,\n",
      " 'max_features': 0.4,\n",
      " 'max_leaf_nodes': None,\n",
      " 'min_impurity_decrease': 0.0,\n",
      " 'min_impurity_split': None,\n",
      " 'min_samples_leaf': 0.08736842105263157,\n",
      " 'min_samples_split': 0.5252631578947369,\n",
      " 'min_weight_fraction_leaf': 0.0,\n",
      " 'n_estimators': 100,\n",
      " 'n_iter_no_change': None,\n",
      " 'presort': 'deprecated',\n",
      " 'random_state': None,\n",
      " 'subsample': 1,\n",
      " 'tol': 0.0001,\n",
      " 'validation_fraction': 0.1,\n",
      " 'verbose': 0,\n",
      " 'warm_start': False}\n",
      "\n",
      "14 - sparsenormalizer\n",
      "{'copy': True, 'norm': 'max'}\n",
      "\n",
      "14 - gradientboostingclassifier\n",
      "{'ccp_alpha': 0.0,\n",
      " 'criterion': 'mse',\n",
      " 'init': None,\n",
      " 'learning_rate': 0.1,\n",
      " 'loss': 'deviance',\n",
      " 'max_depth': 3,\n",
      " 'max_features': 0.05,\n",
      " 'max_leaf_nodes': None,\n",
      " 'min_impurity_decrease': 0.0,\n",
      " 'min_impurity_split': None,\n",
      " 'min_samples_leaf': 0.035789473684210524,\n",
      " 'min_samples_split': 0.38473684210526315,\n",
      " 'min_weight_fraction_leaf': 0.0,\n",
      " 'n_estimators': 50,\n",
      " 'n_iter_no_change': None,\n",
      " 'presort': 'deprecated',\n",
      " 'random_state': None,\n",
      " 'subsample': 1,\n",
      " 'tol': 0.0001,\n",
      " 'validation_fraction': 0.1,\n",
      " 'verbose': 0,\n",
      " 'warm_start': False}\n",
      "\n"
     ]
    }
   ],
   "source": [
    "# parameter details of the best model\n",
    "from pprint import pprint\n",
    "\n",
    "def print_model(model, prefix=\"\"):\n",
    "    for step in model.steps:\n",
    "        print(prefix + step[0])\n",
    "        if hasattr(step[1], 'estimators') and hasattr(step[1], 'weights'):\n",
    "            pprint({'estimators': list(\n",
    "                e[0] for e in step[1].estimators), 'weights': step[1].weights})\n",
    "            print()\n",
    "            for estimator in step[1].estimators:\n",
    "                print_model(estimator[1], estimator[0] + ' - ')\n",
    "        else:\n",
    "            pprint(step[1].get_params())\n",
    "            print()\n",
    "\n",
    "print_model(fitted_model)"
   ]
  },
  {
   "cell_type": "code",
   "execution_count": 14,
   "metadata": {},
   "outputs": [],
   "source": [
    "# create inference folder\n",
    "folder_name = 'inference'\n",
    "\n",
    "if folder_name not in os.listdir():\n",
    "    os.mkdir(folder_name)\n",
    "    print(\"The folder\", folder_name, \"has been created\")"
   ]
  },
  {
   "cell_type": "code",
   "execution_count": 15,
   "metadata": {
    "gather": {
     "logged": 1598431426111
    },
    "jupyter": {
     "outputs_hidden": false,
     "source_hidden": false
    },
    "nteract": {
     "transient": {
      "deleting": false
     }
    }
   },
   "outputs": [],
   "source": [
    "# Save the best model, scoring script, and conda env files in inference folder\n",
    "best_run.download_file('outputs/scoring_file_v_1_0_0.py', 'inference/score.py')\n",
    "best_run.download_file('outputs/model.pkl', 'inference/model.pkl')\n",
    "best_run.download_file('outputs/conda_env_v_1_0_0.yml', 'inference/conda_env.yml')"
   ]
  },
  {
   "cell_type": "markdown",
   "metadata": {},
   "source": [
    "## Model Deployment\n",
    "\n",
    "The Auto ML run produced the best model hence, I deployed the Auto ML model"
   ]
  },
  {
   "cell_type": "code",
   "execution_count": 16,
   "metadata": {
    "gather": {
     "logged": 1598431435189
    },
    "jupyter": {
     "outputs_hidden": false,
     "source_hidden": false
    },
    "nteract": {
     "transient": {
      "deleting": false
     }
    }
   },
   "outputs": [
    {
     "name": "stdout",
     "output_type": "stream",
     "text": [
      "Registering model AutoMLcb5c23e6632\n",
      "Name: AutoMLcb5c23e6632\n",
      "Version: 1\n"
     ]
    }
   ],
   "source": [
    "# Register the model\n",
    "import sklearn\n",
    "\n",
    "from azureml.core import Model\n",
    "from azureml.core.resource_configuration import ResourceConfiguration\n",
    "\n",
    "model_name = best_run.properties['model_name']\n",
    "\n",
    "run_id = best_run.id\n",
    "experiment_name = best_run.experiment.name\n",
    "\n",
    "model = Model.register(workspace=ws,\n",
    "                       model_name=model_name, # Name of the registered model in your workspace.\n",
    "                       model_path='inference/model.pkl',  # Local file to upload and register as a model.\n",
    "                       model_framework=Model.Framework.SCIKITLEARN,  # Framework used to create the model.\n",
    "                       model_framework_version=sklearn.__version__,  # Version of scikit-learn used to create the model.\n",
    "                       description='Auto ML model to predict motality caused by heart failure.',\n",
    "                       tags={'area': 'heart-failure', 'type': 'classification'})\n",
    "\n",
    "print('Name:', model.name)\n",
    "print('Version:', model.version)"
   ]
  },
  {
   "cell_type": "code",
   "execution_count": 17,
   "metadata": {},
   "outputs": [
    {
     "name": "stdout",
     "output_type": "stream",
     "text": [
      "# Conda environment specification. The dependencies defined in this file will\n",
      "# be automatically provisioned for runs with userManagedDependencies=False.\n",
      "\n",
      "# Details about the Conda environment file format:\n",
      "# https://conda.io/docs/user-guide/tasks/manage-environments.html#create-env-file-manually\n",
      "\n",
      "name: project_environment\n",
      "dependencies:\n",
      "  # The python interpreter version.\n",
      "  # Currently Azure ML only supports 3.5.2 and later.\n",
      "- python=3.6.2\n",
      "\n",
      "- pip:\n",
      "  - azureml-train-automl-runtime==1.20.0.post1\n",
      "  - inference-schema\n",
      "  - azureml-interpret==1.20.0\n",
      "  - azureml-defaults==1.20.0\n",
      "- numpy>=1.16.0,<1.19.0\n",
      "- pandas==0.25.1\n",
      "- scikit-learn==0.22.1\n",
      "- py-xgboost<=0.90\n",
      "- fbprophet==0.5\n",
      "- holidays==0.9.11\n",
      "- psutil>=5.2.2,<6.0.0\n",
      "channels:\n",
      "- anaconda\n",
      "- conda-forge\n",
      "\n"
     ]
    }
   ],
   "source": [
    "# create inference configuration\n",
    "from azureml.core.environment import Environment\n",
    "from azureml.core.model import InferenceConfig\n",
    "\n",
    "myenv = Environment.from_conda_specification(name=\"myenv\", file_path=\"inference/conda_env.yml\")\n",
    "inference_config = InferenceConfig(entry_script=\"inference/score.py\", environment=myenv)\n",
    "\n",
    "# display the environment file\n",
    "with open('inference/conda_env.yml', 'r') as file:\n",
    "    env_file = file.read()\n",
    "    print(env_file)"
   ]
  },
  {
   "cell_type": "code",
   "execution_count": 18,
   "metadata": {},
   "outputs": [
    {
     "name": "stdout",
     "output_type": "stream",
     "text": [
      "Tips: You can try get_logs(): https://aka.ms/debugimage#dockerlog or local deployment: https://aka.ms/debugimage#debug-locally to debug if deployment takes longer than 10 minutes.\n",
      "Running.........................................................................................................................................................................................................\n",
      "Succeeded\n",
      "ACI service creation operation finished, operation \"Succeeded\"\n",
      "Healthy\n"
     ]
    }
   ],
   "source": [
    "# Model Deployment\n",
    "from azureml.core.webservice import AciWebservice\n",
    "\n",
    "# define deployment configuration\n",
    "aci_deployment_config = AciWebservice.deploy_configuration(cpu_cores=1,\n",
    "                                                           memory_gb=1,\n",
    "                                                           tags={'area': \"heart-failure\", 'type': \"classification\"},\n",
    "                                                           description=\"Predict heart failure mortality using classification model\",\n",
    "                                                           enable_app_insights=True)\n",
    "\n",
    "# deploy model as webservice using Azure Container Instance(ACI)\n",
    "aci_service_name = \"aci-heart-failure-deploy\"\n",
    "\n",
    "aci_service = Model.deploy(ws, aci_service_name, [model], inference_config, aci_deployment_config, overwrite=True)\n",
    "aci_service.wait_for_deployment(show_output=True)\n",
    "\n",
    "print(aci_service.state)"
   ]
  },
  {
   "cell_type": "markdown",
   "metadata": {
    "collapsed": true,
    "gather": {
     "logged": 1598431657736
    },
    "jupyter": {
     "outputs_hidden": false,
     "source_hidden": false
    },
    "nteract": {
     "transient": {
      "deleting": false
     }
    }
   },
   "source": [
    "## Consuming the model"
   ]
  },
  {
   "cell_type": "code",
   "execution_count": 19,
   "metadata": {},
   "outputs": [
    {
     "name": "stdout",
     "output_type": "stream",
     "text": [
      "http://11fafa41-7731-4f6d-bf89-b58119229b7b.southcentralus.azurecontainer.io/score\n"
     ]
    }
   ],
   "source": [
    "# get the active api endpoint for scoring\n",
    "print(aci_service.scoring_uri)"
   ]
  },
  {
   "cell_type": "code",
   "execution_count": 22,
   "metadata": {},
   "outputs": [
    {
     "name": "stdout",
     "output_type": "stream",
     "text": [
      "Results: {\"result\": [1, 1, 0, 1]}\n"
     ]
    }
   ],
   "source": [
    "# run script to score the 4 observations below in the json payloader\n",
    "import json\n",
    "import requests\n",
    "\n",
    "scoring_uri = 'http://11fafa41-7731-4f6d-bf89-b58119229b7b.southcentralus.azurecontainer.io/score'\n",
    "headers = {'Content-Type':'application/json'}\n",
    "\n",
    "test_sample = json.dumps({\n",
    "    \"data\": [\n",
    "            [75.0, 0.0, 582.0, 0.0, 20.0, 1.0, 265000.0, 1.9, 130.0, 1.0, 0.0, 4.0],\n",
    "            [80.0, 1.0, 123.0, 0.0, 35.0, 1.0, 388000.0, 9.4, 133.0, 1.0, 1.0, 10.0],\n",
    "            [62.0, 0.0, 61.0, 1.0, 38.0, 1.0, 155000.0, 1.1, 143.0, 1.0, 1.0, 270.0],\n",
    "            [50.0, 1.0, 111.0, 0.0, 20.0, 0.0, 210000.0, 1.9, 137.0, 1.0, 0.0, 7.0]\n",
    "        ]\n",
    "    })\n",
    "\n",
    "response = requests.post(scoring_uri, data=test_sample, headers=headers)\n",
    "print(\"Results:\", response.json())"
   ]
  },
  {
   "cell_type": "markdown",
   "metadata": {
    "collapsed": true,
    "gather": {
     "logged": 1598432765711
    },
    "jupyter": {
     "outputs_hidden": false,
     "source_hidden": false
    },
    "nteract": {
     "transient": {
      "deleting": false
     }
    }
   },
   "source": [
    "### Print the logs of the webservice"
   ]
  },
  {
   "cell_type": "code",
   "execution_count": 21,
   "metadata": {},
   "outputs": [
    {
     "name": "stdout",
     "output_type": "stream",
     "text": [
      "2021-01-28T15:51:57,219089798+00:00 - iot-server/run \n",
      "2021-01-28T15:51:57,221247172+00:00 - gunicorn/run \n",
      "2021-01-28T15:51:57,230364681+00:00 - rsyslog/run \n",
      "2021-01-28T15:51:57,230364681+00:00 - nginx/run \n",
      "/usr/sbin/nginx: /azureml-envs/azureml_4f26b5b9300bb3a3b89415c34dafac63/lib/libcrypto.so.1.0.0: no version information available (required by /usr/sbin/nginx)\n",
      "/usr/sbin/nginx: /azureml-envs/azureml_4f26b5b9300bb3a3b89415c34dafac63/lib/libcrypto.so.1.0.0: no version information available (required by /usr/sbin/nginx)\n",
      "/usr/sbin/nginx: /azureml-envs/azureml_4f26b5b9300bb3a3b89415c34dafac63/lib/libssl.so.1.0.0: no version information available (required by /usr/sbin/nginx)\n",
      "/usr/sbin/nginx: /azureml-envs/azureml_4f26b5b9300bb3a3b89415c34dafac63/lib/libssl.so.1.0.0: no version information available (required by /usr/sbin/nginx)\n",
      "/usr/sbin/nginx: /azureml-envs/azureml_4f26b5b9300bb3a3b89415c34dafac63/lib/libssl.so.1.0.0: no version information available (required by /usr/sbin/nginx)\n",
      "rsyslogd: /azureml-envs/azureml_4f26b5b9300bb3a3b89415c34dafac63/lib/libuuid.so.1: no version information available (required by rsyslogd)\n",
      "EdgeHubConnectionString and IOTEDGE_IOTHUBHOSTNAME are not set. Exiting...\n",
      "2021-01-28T15:51:57,379240934+00:00 - iot-server/finish 1 0\n",
      "2021-01-28T15:51:57,380954293+00:00 - Exit code 1 is normal. Not restarting iot-server.\n",
      "Starting gunicorn 19.9.0\n",
      "Listening at: http://127.0.0.1:31311 (12)\n",
      "Using worker: sync\n",
      "worker timeout is set to 300\n",
      "Booting worker with pid: 42\n",
      "SPARK_HOME not set. Skipping PySpark Initialization.\n",
      "Generating new fontManager, this may take some time...\n",
      "Initializing logger\n",
      "2021-01-28 15:51:59,034 | root | INFO | Starting up app insights client\n",
      "2021-01-28 15:51:59,034 | root | INFO | Starting up request id generator\n",
      "2021-01-28 15:51:59,034 | root | INFO | Starting up app insight hooks\n",
      "2021-01-28 15:51:59,034 | root | INFO | Invoking user's init function\n",
      "2021-01-28 15:52:01,742 | azureml.core | WARNING | Failure while loading azureml_run_type_providers. Failed to load entrypoint automl = azureml.train.automl.run:AutoMLRun._from_run_dto with exception cannot import name 'RunType'.\n",
      "Failure while loading azureml_run_type_providers. Failed to load entrypoint automl = azureml.train.automl.run:AutoMLRun._from_run_dto with exception cannot import name 'RunType'.\n",
      "2021-01-28 15:52:01,955 | root | INFO | Users's init has completed successfully\n",
      "2021-01-28 15:52:01,958 | root | INFO | Skipping middleware: dbg_model_info as it's not enabled.\n",
      "2021-01-28 15:52:01,958 | root | INFO | Skipping middleware: dbg_resource_usage as it's not enabled.\n",
      "2021-01-28 15:52:01,960 | root | INFO | Scoring timeout is found from os.environ: 60000 ms\n",
      "2021-01-28 15:52:07,918 | root | INFO | 200\n",
      "127.0.0.1 - - [28/Jan/2021:15:52:07 +0000] \"GET /swagger.json HTTP/1.0\" 200 2860 \"-\" \"Go-http-client/1.1\"\n",
      "2021-01-28 15:52:12,657 | root | INFO | 200\n",
      "127.0.0.1 - - [28/Jan/2021:15:52:12 +0000] \"GET /swagger.json HTTP/1.0\" 200 2860 \"-\" \"Go-http-client/1.1\"\n",
      "2021-01-28 15:59:28,276 | root | INFO | Validation Request Content-Type\n",
      "2021-01-28 15:59:28,277 | root | INFO | Scoring Timer is set to 60.0 seconds\n",
      "2021-01-28 15:59:28,575 | root | INFO | 200\n",
      "127.0.0.1 - - [28/Jan/2021:15:59:28 +0000] \"POST /score HTTP/1.0\" 200 28 \"-\" \"python-requests/2.25.1\"\n",
      "\n"
     ]
    }
   ],
   "source": [
    "# print the log of the webservice\n",
    "print(aci_service.get_logs())"
   ]
  },
  {
   "cell_type": "code",
   "execution_count": 23,
   "metadata": {},
   "outputs": [],
   "source": [
    "# delete the web service\n",
    "aci_service.delete()\n",
    "model.delete()"
   ]
  },
  {
   "cell_type": "code",
   "execution_count": null,
   "metadata": {},
   "outputs": [],
   "source": []
  }
 ],
 "metadata": {
  "kernel_info": {
   "name": "python3-azureml"
  },
  "kernelspec": {
   "display_name": "Python 3.6 - AzureML",
   "language": "python",
   "name": "python3-azureml"
  },
  "language_info": {
   "codemirror_mode": {
    "name": "ipython",
    "version": 3
   },
   "file_extension": ".py",
   "mimetype": "text/x-python",
   "name": "python",
   "nbconvert_exporter": "python",
   "pygments_lexer": "ipython3",
   "version": "3.6.9"
  },
  "nteract": {
   "version": "nteract-front-end@1.0.0"
  }
 },
 "nbformat": 4,
 "nbformat_minor": 2
}
